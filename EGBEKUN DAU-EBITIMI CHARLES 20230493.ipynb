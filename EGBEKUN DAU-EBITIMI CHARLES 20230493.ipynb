{
 "cells": [
  {
   "cell_type": "code",
   "execution_count": 1,
   "id": "c2877c06-e1cd-4bcb-80d9-7501b8358eb2",
   "metadata": {
    "tags": []
   },
   "outputs": [],
   "source": [
    "#Assignment (1a)\n",
    "name = \"Egbekun Dau-ebitimi Charles\""
   ]
  },
  {
   "cell_type": "code",
   "execution_count": 2,
   "id": "f289af3e-0cdc-4cef-be0a-65196d5e8a18",
   "metadata": {
    "tags": []
   },
   "outputs": [
    {
     "name": "stdout",
     "output_type": "stream",
     "text": [
      "Hello Egbekun Dau-ebitimi Charles, I am currently taking Advanced Python Classes under an amazing Tutor.\n"
     ]
    }
   ],
   "source": [
    "message = f\"Hello {name}, I am currently taking Advanced Python Classes under an amazing Tutor.\"\n",
    "print(message)"
   ]
  },
  {
   "cell_type": "code",
   "execution_count": 3,
   "id": "9053c5ac-fa79-4976-87b0-bb915ae2db15",
   "metadata": {
    "tags": []
   },
   "outputs": [
    {
     "name": "stdout",
     "output_type": "stream",
     "text": [
      "Lowercase: egbekun dau-ebitimi charles.\n",
      "Uppercase: EGBEKUN DAU-EBITIMI CHARLES.\n",
      "Titlecase: EGBEKUN DAU-EBITIMI CHARLES.\n",
      "hello egbekun dau-ebitimi charles, i am currently taking advanced python classes under an amazing tutor.\n",
      "HELLO EGBEKUN DAU-EBITIMI CHARLES, I AM CURRENTLY TAKING ADVANCED PYTHON CLASSES UNDER AN AMAZING TUTOR.\n",
      "Hello Egbekun Dau-Ebitimi Charles, I Am Currently Taking Advanced Python Classes Under An Amazing Tutor.\n"
     ]
    }
   ],
   "source": [
    "lowercase_name = name.lower()\n",
    "uppercase_name = name.upper()\n",
    "titlecae_name = name.title()\n",
    "\n",
    "print(f\"Lowercase: {lowercase_name}.\")\n",
    "print(f\"Uppercase: {uppercase_name}.\")\n",
    "print(f\"Titlecase: {uppercase_name}.\")\n",
    "\n",
    "print(message.lower())\n",
    "print(message.upper())\n",
    "print(message.title())"
   ]
  },
  {
   "cell_type": "code",
   "execution_count": null,
   "id": "4ae553e4-8e18-4878-859c-dccfc94a93df",
   "metadata": {},
   "outputs": [],
   "source": []
  },
  {
   "cell_type": "code",
   "execution_count": 170,
   "id": "ceb49c82-6f8b-4a68-9109-5e1286474310",
   "metadata": {
    "tags": []
   },
   "outputs": [
    {
     "name": "stdout",
     "output_type": "stream",
     "text": [
      "Cristiano Ronaldo once said, \"I see myself as the best footballer in the world. If you do not believe you are the best, then you will never achieve all that you are capable f.\"\n"
     ]
    }
   ],
   "source": [
    "#Assignment (1b)\n",
    "famous_person = \"Cristiano Ronaldo\"\n",
    "message = f'{famous_person} once said, \"I see myself as the best footballer in the world. If you do not believe you are the best, then you will never achieve all that you are capable f.\"'\n",
    "\n",
    "\n",
    "print(message)"
   ]
  },
  {
   "cell_type": "code",
   "execution_count": null,
   "id": "3debf038-861c-438e-bc0b-282e6b30687b",
   "metadata": {},
   "outputs": [],
   "source": []
  },
  {
   "cell_type": "code",
   "execution_count": null,
   "id": "e680f3fe-7060-464a-bab7-5c2f871bc394",
   "metadata": {},
   "outputs": [],
   "source": [
    "# Assignment (Q1c)  Store the names of a few of your classmates in a list called names. Print each person's name by accessing each element in the list, one at a time. Also print a message to them. The text of each message should be the same, but each message should be personalized with the person's name."
   ]
  },
  {
   "cell_type": "code",
   "execution_count": 171,
   "id": "619f338a-ad43-45c0-b2a3-161d0a20b249",
   "metadata": {
    "tags": []
   },
   "outputs": [
    {
     "name": "stdout",
     "output_type": "stream",
     "text": [
      "Hi, Olushola! How is the assignment going, i wish you the best, Peace.\n",
      "Hi, Favour! How is the assignment going, i wish you the best, Peace.\n",
      "Hi, Abbas! How is the assignment going, i wish you the best, Peace.\n",
      "Hi, Najeeb! How is the assignment going, i wish you the best, Peace.\n",
      "Hi, Victor! How is the assignment going, i wish you the best, Peace.\n"
     ]
    }
   ],
   "source": [
    "names = [\"Olushola\", \"Favour\", \"Abbas\", \"Najeeb\", \"Victor\"]\n",
    "message = \"Hi, {}! How is the assignment going, i wish you the best, Peace.\"\n",
    "\n",
    "for name in names:\n",
    "    print(message.format(name))"
   ]
  },
  {
   "cell_type": "code",
   "execution_count": null,
   "id": "17efe02a-d94d-46c1-96a2-56edeb74cd80",
   "metadata": {},
   "outputs": [],
   "source": [
    "#Assignment (2)"
   ]
  },
  {
   "cell_type": "code",
   "execution_count": 22,
   "id": "edd70fa4-8fc3-4227-aa5e-c6151d6339e8",
   "metadata": {
    "tags": []
   },
   "outputs": [
    {
     "name": "stdout",
     "output_type": "stream",
     "text": [
      "Dear Maria Sanami, I would be greatly honoured if you could join me at my graduation ceremoney. You have been a great inspiration to me, and it would be my pleasure to have you celebrate this great milstone with me. Looking forward to your acknowledgement. Best Regards, [Egbekun Dau-Ebitimi Charles]\n",
      "Dear Kingsley Kuku, I would be greatly honoured if you could join me at my graduation ceremoney. You have been a great inspiration to me, and it would be my pleasure to have you celebrate this great milstone with me. Looking forward to your acknowledgement. Best Regards, [Egbekun Dau-Ebitimi Charles]\n",
      "Dear Helen Adekanle, I would be greatly honoured if you could join me at my graduation ceremoney. You have been a great inspiration to me, and it would be my pleasure to have you celebrate this great milstone with me. Looking forward to your acknowledgement. Best Regards, [Egbekun Dau-Ebitimi Charles]\n"
     ]
    }
   ],
   "source": [
    "invited_people = [\"Maria Sanami\", \"Kingsley Kuku\", \"Helen Adekanle\"]\n",
    "\n",
    "for person in invited_people:\n",
    "    message = f\"Dear {person}, I would be greatly honoured if you could join me at my graduation ceremoney. You have been a great inspiration to me, and it would be my pleasure to have you celebrate this great milstone with me. Looking forward to your acknowledgement. Best Regards, [Egbekun Dau-Ebitimi Charles]\"\n",
    "    \n",
    "    print (message)\n"
   ]
  },
  {
   "cell_type": "code",
   "execution_count": 26,
   "id": "4e59fe7b-e0c3-4b64-b0f3-ee4096857ad1",
   "metadata": {
    "tags": []
   },
   "outputs": [
    {
     "name": "stdout",
     "output_type": "stream",
     "text": [
      "Dear Maria Sanami, I would be greatly honoured if you could join me at my graduation ceremoney. You have been a great inspiration to me, and it would be my pleasure to have you celebrate this great milstone with me. Looking forward to your acknowledgement. Best Regards, [Egbekun Dau-Ebitimi Charles]\n",
      "Dear Kingsley Kuku, I would be greatly honoured if you could join me at my graduation ceremoney. You have been a great inspiration to me, and it would be my pleasure to have you celebrate this great milstone with me. Looking forward to your acknowledgement. Best Regards, [Egbekun Dau-Ebitimi Charles]\n",
      "Helen Adekanle can't make it to the graduation.\n"
     ]
    }
   ],
   "source": [
    "invited_people = [\"Maria Sanami\", \"Kingsley Kuku\", \"Helen Adekanle\"]\n",
    "unavailable_guest = \"Helen Adekanle\"\n",
    "\n",
    "for person in invited_people:\n",
    "    if person == unavailable_guest:\n",
    "        print(f\"{unavailable_guest} can't make it to the graduation.\")\n",
    "    else:\n",
    "        message = f\"Dear {person}, I would be greatly honoured if you could join me at my graduation ceremoney. You have been a great inspiration to me, and it would be my pleasure to have you celebrate this great milstone with me. Looking forward to your acknowledgement. Best Regards, [Egbekun Dau-Ebitimi Charles]\"\n",
    "    \n",
    "        print (message)"
   ]
  },
  {
   "cell_type": "code",
   "execution_count": 27,
   "id": "1e0f5b08-7707-423b-a289-fd30d149517d",
   "metadata": {
    "tags": []
   },
   "outputs": [
    {
     "name": "stdout",
     "output_type": "stream",
     "text": [
      "Modified List of Invited Guests:\n",
      "Maria Sanami\n",
      "Kingsley Kuku\n",
      "Engineer Filatei\n"
     ]
    }
   ],
   "source": [
    "invited_people = [\"Maria Sanami\", \"Kingsley Kuku\", \"Helen Adekanle\"]\n",
    "unavailable_guest = \"Helen Adekanle\"\n",
    "new_guest = \"Engineer Filatei\"\n",
    "\n",
    "for i in range(len(invited_people)):\n",
    "    if invited_people[i] == unavailable_guest:\n",
    "        invited_people[i] = new_guest\n",
    "        break\n",
    "        \n",
    "print(\"Modified List of Invited Guests:\")\n",
    "for person in invited_people:\n",
    "        print(person)"
   ]
  },
  {
   "cell_type": "code",
   "execution_count": 33,
   "id": "de96a557-c139-4348-83ab-0c3bd7236ee1",
   "metadata": {
    "tags": []
   },
   "outputs": [
    {
     "name": "stdout",
     "output_type": "stream",
     "text": [
      "Modified List of Invited Guests:\n",
      "Maria Sanami\n",
      "Kingsley Kuku\n",
      "Engineer Filatei\n",
      "Dear Maria Sanami, I would be greatly honoured if you could join me at my graduation ceremoney. You have been a great inspiration to me, and it would be my pleasure to have you celebrate this great milstone with me. Looking forward to your acknowledgement. Best Regards, [Egbekun Dau-Ebitimi Charles]\n",
      "Dear Kingsley Kuku, I would be greatly honoured if you could join me at my graduation ceremoney. You have been a great inspiration to me, and it would be my pleasure to have you celebrate this great milstone with me. Looking forward to your acknowledgement. Best Regards, [Egbekun Dau-Ebitimi Charles]\n",
      "Dear Engineer Filatei, I would be greatly honoured if you could join me at my graduation ceremoney. You have been a great inspiration to me, and it would be my pleasure to have you celebrate this great milstone with me. Looking forward to your acknowledgement. Best Regards, [Egbekun Dau-Ebitimi Charles]\n"
     ]
    }
   ],
   "source": [
    "invited_people = [\"Maria Sanami\", \"Kingsley Kuku\", \"Helen Adekanle\"]\n",
    "unavailable_guest = \"Helen Adekanle\"\n",
    "new_guest = \"Engineer Filatei\"\n",
    "\n",
    "for i in range(len(invited_people)):\n",
    "    if invited_people[i] == unavailable_guest:\n",
    "        invited_people[i] = new_guest\n",
    "        break\n",
    "print(\"Modified List of Invited Guests:\")\n",
    "for person in invited_people:\n",
    "        print(person)\n",
    "        \n",
    "for person in invited_people:\n",
    "    message = f\"Dear {person}, I would be greatly honoured if you could join me at my graduation ceremoney. You have been a great inspiration to me, and it would be my pleasure to have you celebrate this great milstone with me. Looking forward to your acknowledgement. Best Regards, [Egbekun Dau-Ebitimi Charles]\"\n",
    "    \n",
    "    print (message)"
   ]
  },
  {
   "cell_type": "code",
   "execution_count": 32,
   "id": "7bb8bcf8-7c38-455b-9324-8722af9e27e1",
   "metadata": {
    "tags": []
   },
   "outputs": [
    {
     "name": "stdout",
     "output_type": "stream",
     "text": [
      "Dear Maria Sanami, I would be greatly honoured if you could join me at my graduation ceremoney. You have been a great inspiration to me, and it would be my pleasure to have you celebrate this great milstone with me. Looking forward to your acknowledgement. Best Regards, [Egbekun Dau-Ebitimi Charles]\n",
      "Good news! We hae just been allowed to invite more guests to the graduation ceremoney. We will be sending out more invites shortly.\n",
      "Dear Kingsley Kuku, I would be greatly honoured if you could join me at my graduation ceremoney. You have been a great inspiration to me, and it would be my pleasure to have you celebrate this great milstone with me. Looking forward to your acknowledgement. Best Regards, [Egbekun Dau-Ebitimi Charles]\n",
      "Good news! We hae just been allowed to invite more guests to the graduation ceremoney. We will be sending out more invites shortly.\n",
      "Dear Engineer Filatei, I would be greatly honoured if you could join me at my graduation ceremoney. You have been a great inspiration to me, and it would be my pleasure to have you celebrate this great milstone with me. Looking forward to your acknowledgement. Best Regards, [Egbekun Dau-Ebitimi Charles]\n",
      "Good news! We hae just been allowed to invite more guests to the graduation ceremoney. We will be sending out more invites shortly.\n"
     ]
    }
   ],
   "source": [
    "invited_people = [\"Maria Sanami\", \"Kingsley Kuku\", \"Helen Adekanle\"]\n",
    "unavailable_guest = \"Helen Adekanle\"\n",
    "new_guest = \"Engineer Filatei\"\n",
    "\n",
    "for i in range(len(invited_people)):\n",
    "    if invited_people[i] == unavailable_guest:\n",
    "        invited_people[i] = new_guest\n",
    "        break\n",
    "        \n",
    "for person in invited_people:\n",
    "    message = f\"Dear {person}, I would be greatly honoured if you could join me at my graduation ceremoney. You have been a great inspiration to me, and it would be my pleasure to have you celebrate this great milstone with me. Looking forward to your acknowledgement. Best Regards, [Egbekun Dau-Ebitimi Charles]\"\n",
    "    \n",
    "    print (message)\n",
    "    \n",
    "    #Change in Allowed Guest Number\n",
    "    \n",
    "    print(\"Good news! We hae just been allowed to invite more guests to the graduation ceremoney. We will be sending out more invites shortly.\")"
   ]
  },
  {
   "cell_type": "code",
   "execution_count": 164,
   "id": "b6cbe271-bff6-40f0-a4a4-a93cd29a783e",
   "metadata": {
    "tags": []
   },
   "outputs": [
    {
     "name": "stdout",
     "output_type": "stream",
     "text": [
      "Updated Guest List.\n",
      "John Ezeigwe\n",
      "Maria Sanami\n",
      "Kingsley Kuku\n",
      "Engineer Filatei\n"
     ]
    }
   ],
   "source": [
    "#Use insert() to add one new guest to the beginning of the list.\n",
    "invited_people = [\"Maria Sanami\", \"Kingsley Kuku\", \"Engineer Filatei\"]\n",
    "new_guest = \"John Ezeigwe\"\n",
    "\n",
    "invited_people.insert(0, new_guest)\n",
    "\n",
    "print(\"Updated Guest List.\")\n",
    "for person in invited_people:\n",
    "    print(person)\n",
    "      \n"
   ]
  },
  {
   "cell_type": "code",
   "execution_count": 165,
   "id": "3af61f81-23a6-4bb1-b4dc-bdb5e84122b6",
   "metadata": {
    "tags": []
   },
   "outputs": [
    {
     "name": "stdout",
     "output_type": "stream",
     "text": [
      "Updated Guest List.\n",
      "John Ezeigwe\n",
      "Maria Sanami\n",
      "Sugar Mummy\n",
      "Kingsley Kuku\n",
      "Engineer Filatei\n"
     ]
    }
   ],
   "source": [
    "#Use insert() to add on new guest to the middle of the list.\n",
    "invited_people = [\"John Ezeigwe\", \"Maria Sanami\", \"Kingsley Kuku\", \"Engineer Filatei\"]\n",
    "new_guest = \"Sugar Mummy\"\n",
    "\n",
    "invited_people.insert(2, new_guest)\n",
    "\n",
    "print(\"Updated Guest List.\")\n",
    "for person in invited_people:\n",
    "    print(person)"
   ]
  },
  {
   "cell_type": "code",
   "execution_count": 166,
   "id": "364a74d9-d79d-4a2f-88d3-78904e504f8b",
   "metadata": {},
   "outputs": [
    {
     "name": "stdout",
     "output_type": "stream",
     "text": [
      "Updated Guest List.\n",
      "John Ezeigwe\n",
      "Maria Sanami\n",
      "Sugar Mummy\n",
      "Kingsley Kuku\n",
      "Engineer Filatei\n",
      "Matthew Egbekun\n"
     ]
    }
   ],
   "source": [
    "#Use append() to add one new guest to the end of the list.\n",
    "new_guest = \"Matthew Egbekun\"\n",
    "\n",
    "invited_people.append(new_guest)\n",
    "\n",
    "print(\"Updated Guest List.\")\n",
    "for person in invited_people:\n",
    "    print(person)"
   ]
  },
  {
   "cell_type": "code",
   "execution_count": 167,
   "id": "064e615d-2442-4a02-92f1-9de4e898b608",
   "metadata": {
    "tags": []
   },
   "outputs": [
    {
     "name": "stdout",
     "output_type": "stream",
     "text": [
      "Dear John Ezeigwe, I would be greatly honoured if you could join me at my graduation ceremoney. You have been a great inspiration to me, and it would be my pleasure to have you celebrate this great milstone with me. Looking forward to your acknowledgement. Best Regards, [Egbekun Dau-Ebitimi Charles]\n",
      "Dear Maria Sanami, I would be greatly honoured if you could join me at my graduation ceremoney. You have been a great inspiration to me, and it would be my pleasure to have you celebrate this great milstone with me. Looking forward to your acknowledgement. Best Regards, [Egbekun Dau-Ebitimi Charles]\n",
      "Dear Sugar Mummy, I would be greatly honoured if you could join me at my graduation ceremoney. You have been a great inspiration to me, and it would be my pleasure to have you celebrate this great milstone with me. Looking forward to your acknowledgement. Best Regards, [Egbekun Dau-Ebitimi Charles]\n",
      "Dear Kingsley Kuku, I would be greatly honoured if you could join me at my graduation ceremoney. You have been a great inspiration to me, and it would be my pleasure to have you celebrate this great milstone with me. Looking forward to your acknowledgement. Best Regards, [Egbekun Dau-Ebitimi Charles]\n",
      "Dear Engineer Filatei, I would be greatly honoured if you could join me at my graduation ceremoney. You have been a great inspiration to me, and it would be my pleasure to have you celebrate this great milstone with me. Looking forward to your acknowledgement. Best Regards, [Egbekun Dau-Ebitimi Charles]\n",
      "Dear Matthew Egbekun, I would be greatly honoured if you could join me at my graduation ceremoney. You have been a great inspiration to me, and it would be my pleasure to have you celebrate this great milstone with me. Looking forward to your acknowledgement. Best Regards, [Egbekun Dau-Ebitimi Charles]\n"
     ]
    }
   ],
   "source": [
    "for person in invited_people:\n",
    "    message = f\"Dear {person}, I would be greatly honoured if you could join me at my graduation ceremoney. You have been a great inspiration to me, and it would be my pleasure to have you celebrate this great milstone with me. Looking forward to your acknowledgement. Best Regards, [Egbekun Dau-Ebitimi Charles]\"\n",
    "    \n",
    "    print (message)"
   ]
  },
  {
   "cell_type": "code",
   "execution_count": 168,
   "id": "3e8f6412-7a05-4056-934c-ecb38644f7a7",
   "metadata": {
    "tags": []
   },
   "outputs": [
    {
     "name": "stdout",
     "output_type": "stream",
     "text": [
      "Updated Guest List.\n",
      "John Ezeigwe\n",
      "Maria Sanami\n",
      "Sugar Mummy\n",
      "Kingsley Kuku\n",
      "Engineer Filatei\n",
      "Matthew Egbekun\n",
      "\n",
      "Due to organazational issues, I can only invite two people for my graduation, my appologies for any inconvinience this might have caused, please accept my deepest apologies.\n"
     ]
    }
   ],
   "source": [
    "#New Line that prints a message saying that you can invite only two people for the graduation.\n",
    "print(\"Updated Guest List.\")\n",
    "for person in invited_people:\n",
    "    print(person)\n",
    "\n",
    "print(\"\\nDue to organazational issues, I can only invite two people for my graduation, my appologies for any inconvinience this might have caused, please accept my deepest apologies.\")\n"
   ]
  },
  {
   "cell_type": "code",
   "execution_count": 88,
   "id": "e2018d93-60ca-4f5e-971b-bbd2588e91ab",
   "metadata": {
    "tags": []
   },
   "outputs": [
    {
     "name": "stdout",
     "output_type": "stream",
     "text": [
      "Removed guest: Maria Sanami\n",
      "Dear Maria Sanami, It is with great sadness and regret that i write to inform you that my invitation slots have been reduced an i will not be able to accommodate you for my graduation, I apologise for any inconvienience caused. Thank you for your understanding.\n",
      "updated guest list ['John Ezeigwe', 'Sugar Mummy', 'Kingsley Kuku', 'Engineer Filatei', 'Matthew Egbekun']\n",
      "Removed guest: John Ezeigwe\n",
      "Dear John Ezeigwe, It is with great sadness and regret that i write to inform you that my invitation slots have been reduced an i will not be able to accommodate you for my graduation, I apologise for any inconvienience caused. Thank you for your understanding.\n",
      "updated guest list ['Sugar Mummy', 'Kingsley Kuku', 'Engineer Filatei', 'Matthew Egbekun']\n",
      "Removed guest: Engineer Filatei\n",
      "Dear Engineer Filatei, It is with great sadness and regret that i write to inform you that my invitation slots have been reduced an i will not be able to accommodate you for my graduation, I apologise for any inconvienience caused. Thank you for your understanding.\n",
      "updated guest list ['Sugar Mummy', 'Kingsley Kuku', 'Matthew Egbekun']\n",
      "Removed guest: Kingsley Kuku\n",
      "Dear Kingsley Kuku, It is with great sadness and regret that i write to inform you that my invitation slots have been reduced an i will not be able to accommodate you for my graduation, I apologise for any inconvienience caused. Thank you for your understanding.\n",
      "updated guest list ['Sugar Mummy', 'Matthew Egbekun']\n"
     ]
    }
   ],
   "source": [
    "removed_guest = invited_people.pop(1)\n",
    "print('Removed guest:', removed_guest)\n",
    "message = f\"Dear {removed_guest}, It is with great sadness and regret that i write to inform you that my invitation slots have been reduced an i will not be able to accommodate you for my graduation, I apologise for any inconvienience caused. Thank you for your understanding.\"\n",
    "print(message)\n",
    "print(\"updated guest list\",invited_people)\n",
    "\n",
    "removed_guest = invited_people.pop(0)\n",
    "print('Removed guest:', removed_guest)\n",
    "message = f\"Dear {removed_guest}, It is with great sadness and regret that i write to inform you that my invitation slots have been reduced an i will not be able to accommodate you for my graduation, I apologise for any inconvienience caused. Thank you for your understanding.\"\n",
    "print(message)\n",
    "print(\"updated guest list\",invited_people)\n",
    "\n",
    "\n",
    "removed_guest = invited_people.pop(2)\n",
    "print('Removed guest:', removed_guest)\n",
    "message = f\"Dear {removed_guest}, It is with great sadness and regret that i write to inform you that my invitation slots have been reduced an i will not be able to accommodate you for my graduation, I apologise for any inconvienience caused. Thank you for your understanding.\"\n",
    "print(message)\n",
    "print(\"updated guest list\",invited_people)\n",
    "\n",
    "removed_guest = invited_people.pop(1)\n",
    "print('Removed guest:', removed_guest)\n",
    "message = f\"Dear {removed_guest}, It is with great sadness and regret that i write to inform you that my invitation slots have been reduced an i will not be able to accommodate you for my graduation, I apologise for any inconvienience caused. Thank you for your understanding.\"\n",
    "print(message)\n",
    "print(\"updated guest list\",invited_people)\n"
   ]
  },
  {
   "cell_type": "code",
   "execution_count": 90,
   "id": "2daca0e3-5165-4220-9dff-f468ca314cc3",
   "metadata": {
    "tags": []
   },
   "outputs": [
    {
     "name": "stdout",
     "output_type": "stream",
     "text": [
      "Dear Sugar Mummy, I kindly want to remind you of my graduation, I can't wait to celebrate my great day with you. Best Regards, [Egbekun Dau-Ebitimi Charles]\n",
      "Dear Matthew Egbekun, I kindly want to remind you of my graduation, I can't wait to celebrate my great day with you. Best Regards, [Egbekun Dau-Ebitimi Charles]\n"
     ]
    }
   ],
   "source": [
    "#Print message to each of the two peple still on your list, letting them know they are still invited.\n",
    "for person in invited_people:\n",
    "    message = f\"Dear {person}, I kindly want to remind you of my graduation, I can't wait to celebrate my great day with you. Best Regards, [Egbekun Dau-Ebitimi Charles]\"\n",
    "    \n",
    "    print (message)"
   ]
  },
  {
   "cell_type": "code",
   "execution_count": 91,
   "id": "aa719012-e06c-41d1-9c3c-43920647fdc2",
   "metadata": {
    "tags": []
   },
   "outputs": [
    {
     "name": "stdout",
     "output_type": "stream",
     "text": [
      "Updated Guest List (in alphabetical order):\n",
      "Matthew Egbekun\n",
      "Sugar Mummy\n"
     ]
    }
   ],
   "source": [
    "invited_people.sort()\n",
    "\n",
    "print(\"Updated Guest List (in alphabetical order):\")\n",
    "for guest in invited_people:\n",
    "    print(guest)"
   ]
  },
  {
   "cell_type": "code",
   "execution_count": 92,
   "id": "5d7b161e-12bc-4f48-a597-1ce3e735ee57",
   "metadata": {
    "tags": []
   },
   "outputs": [
    {
     "name": "stdout",
     "output_type": "stream",
     "text": [
      "Reversed Guest List:\n",
      "Sugar Mummy\n",
      "Matthew Egbekun\n"
     ]
    }
   ],
   "source": [
    "invited_people.reverse()\n",
    "\n",
    "print(\"Reversed Guest List:\")\n",
    "for guest in invited_people:\n",
    "    print(guest)"
   ]
  },
  {
   "cell_type": "code",
   "execution_count": 94,
   "id": "92eb375d-8b26-41d1-82c8-515876dfcfe6",
   "metadata": {
    "tags": []
   },
   "outputs": [
    {
     "name": "stdout",
     "output_type": "stream",
     "text": [
      "Graduation Guest List: []\n"
     ]
    }
   ],
   "source": [
    "del invited_people[-2:]\n",
    "print(\"Graduation Guest List:\",invited_people)\n",
    "      "
   ]
  },
  {
   "cell_type": "code",
   "execution_count": null,
   "id": "3257489b-db28-436b-a334-e3c0e31a7ca7",
   "metadata": {},
   "outputs": [],
   "source": []
  },
  {
   "cell_type": "code",
   "execution_count": null,
   "id": "d58a58d5-76f4-4f7a-ba7a-91708af055b5",
   "metadata": {},
   "outputs": [],
   "source": [
    "#Assignment 3a)"
   ]
  },
  {
   "cell_type": "code",
   "execution_count": 101,
   "id": "f4f3213f-73f0-4baf-b36c-dbc405018d1a",
   "metadata": {
    "tags": []
   },
   "outputs": [],
   "source": [
    "def make_album(BurnaBoy, AfricanGiant):\n",
    "    album = {\n",
    "        'artist': BurnaBoy,\n",
    "        'title': AfricanGiant\n",
    "    }\n",
    "    return album"
   ]
  },
  {
   "cell_type": "code",
   "execution_count": 102,
   "id": "fb70a9f1-a737-46a5-b582-4a46343af691",
   "metadata": {
    "tags": []
   },
   "outputs": [
    {
     "name": "stdout",
     "output_type": "stream",
     "text": [
      "{'artist': 'BurnaBoy', 'title': 'AfricanGiant'}\n",
      "{'artist': 'Fireboy', 'title': 'LaughterTears'}\n",
      "{'artist': 'Joeboy', 'title': 'LoveLight'}\n"
     ]
    }
   ],
   "source": [
    "AlbumA = make_album(\"BurnaBoy\", \"AfricanGiant\") \n",
    "AlbumB = make_album(\"Fireboy\", \"LaughterTears\")\n",
    "AlbumC = make_album(\"Joeboy\", \"LoveLight\")\n",
    "\n",
    "print(AlbumA)\n",
    "print(AlbumB)\n",
    "print(AlbumC)"
   ]
  },
  {
   "cell_type": "code",
   "execution_count": 106,
   "id": "b05ec7c1-2610-46a7-88da-f8da972b4237",
   "metadata": {
    "tags": []
   },
   "outputs": [
    {
     "name": "stdout",
     "output_type": "stream",
     "text": [
      "{'artist': 'BurnaBoy', 'title': 'AfricanGiant', 'tracks': 20}\n",
      "{'artist': 'Fireboy', 'title': 'LaughterTears', 'tracks': 10}\n",
      "{'artist': 'Joeboy', 'title': 'LoveLight', 'tracks': 15}\n"
     ]
    }
   ],
   "source": [
    "def make_album(BurnaBoy, AfricanGiant, tracks=None):\n",
    "    album = {\n",
    "        'artist': BurnaBoy,\n",
    "        'title': AfricanGiant\n",
    "    }\n",
    "    if tracks:\n",
    "        album['tracks'] = tracks\n",
    "    return album\n",
    "\n",
    "AlbumA = make_album(\"BurnaBoy\", \"AfricanGiant\", 20) \n",
    "AlbumB = make_album(\"Fireboy\", \"LaughterTears\", 10)\n",
    "AlbumC = make_album(\"Joeboy\", \"LoveLight\", 15)\n",
    "\n",
    "print(AlbumA)\n",
    "print(AlbumB)\n",
    "print(AlbumC)"
   ]
  },
  {
   "cell_type": "code",
   "execution_count": 109,
   "id": "e179bb89-65d3-4fb6-929f-64614c1cbb24",
   "metadata": {
    "tags": []
   },
   "outputs": [
    {
     "name": "stdout",
     "output_type": "stream",
     "text": [
      "Enter the album's artit and title (or 'q' to quit):\n"
     ]
    },
    {
     "name": "stdin",
     "output_type": "stream",
     "text": [
      "Artist: burnaboy\n",
      "Title: africangiant\n"
     ]
    },
    {
     "name": "stdout",
     "output_type": "stream",
     "text": [
      "{'artist': 'burnaboy', 'title': 'africangiant'}\n",
      "Enter the album's artit and title (or 'q' to quit):\n"
     ]
    },
    {
     "name": "stdin",
     "output_type": "stream",
     "text": [
      "Artist: q\n"
     ]
    }
   ],
   "source": [
    "def make_album(BurnaBoy, AfricanGiant, tracks=None):\n",
    "    album = {\n",
    "        'artist': BurnaBoy,\n",
    "        'title': AfricanGiant\n",
    "    }\n",
    "    if tracks:\n",
    "        album['tracks'] = tracks\n",
    "    return album\n",
    "while True:\n",
    "    print(\"Enter the album's artit and title (or 'q' to quit):\")\n",
    "    artist = input(\"Artist:\")\n",
    "    if artist.lower() == 'q':\n",
    "        break\n",
    "    title = input(\"Title:\")\n",
    "    if title.lower() == 'q':\n",
    "        break\n",
    "                  \n",
    "    album = make_album(artist,title)\n",
    "    print(album)\n"
   ]
  },
  {
   "cell_type": "code",
   "execution_count": null,
   "id": "482870d0-876f-4f67-bf27-21251519228d",
   "metadata": {},
   "outputs": [],
   "source": []
  },
  {
   "cell_type": "code",
   "execution_count": null,
   "id": "4d23bb86-5b45-425c-83b9-356d87c7d9cc",
   "metadata": {},
   "outputs": [],
   "source": [
    "#Assignment (3b)\n",
    "#List of Magician Names\n",
    "1. Teller\n",
    "2. David Blaine\n",
    "3. David Copperfield\n",
    "4. Trickstar\n",
    "5. Dynamo\n",
    "6. Rock Solid"
   ]
  },
  {
   "cell_type": "code",
   "execution_count": 111,
   "id": "5860dc48-cec6-461d-8366-32d017694275",
   "metadata": {
    "tags": []
   },
   "outputs": [
    {
     "name": "stdout",
     "output_type": "stream",
     "text": [
      "Teller\n",
      "David Blaine\n",
      "David Copperfield\n",
      "Trickstar\n",
      "Dynmo\n",
      "Rock Solid\n"
     ]
    }
   ],
   "source": [
    "def show_magicians(magicians):\n",
    "    for magician in magicians:\n",
    "        print(magician)\n",
    "        \n",
    "magicians_list = [\"Teller\", \"David Blaine\", \"David Copperfield\", \"Trickstar\", \"Dynmo\", \"Rock Solid\"]\n",
    "\n",
    "show_magicians(magicians_list)\n",
    "\n",
    "        "
   ]
  },
  {
   "cell_type": "code",
   "execution_count": 124,
   "id": "12e13a44-edd9-45fe-8c8c-73deff76e538",
   "metadata": {
    "tags": []
   },
   "outputs": [
    {
     "name": "stdout",
     "output_type": "stream",
     "text": [
      "the GreatTeller\n",
      "the GreatDavid Blaine\n",
      "the GreatDavid Copperfield\n",
      "the GreatTrickstar\n",
      "the GreatDynmo\n",
      "the GreatRock Solid\n"
     ]
    }
   ],
   "source": [
    "\n",
    "def make_great(magicians):\n",
    "    for i in range(len(magicians)):\n",
    "        magicians[i] = \"the Great\" + magicians[i]\n",
    "        \n",
    "magicians_list = [\"Teller\", \"David Blaine\", \"David Copperfield\", \"Trickstar\", \"Dynmo\", \"Rock Solid\"]\n",
    "\n",
    "def show_magicians(magicians):\n",
    "    for magician in magicians:\n",
    "        print(magician)\n",
    "        \n",
    "make_great(magicians_list)\n",
    "\n",
    "show_magicians(magicians_list)"
   ]
  },
  {
   "cell_type": "code",
   "execution_count": 159,
   "id": "629350a6-abb9-4fc0-9c1a-9f1f67cbea65",
   "metadata": {
    "tags": []
   },
   "outputs": [
    {
     "data": {
      "text/plain": [
       "['the GreatTeller',\n",
       " 'the GreatDavid Blaine',\n",
       " 'the GreatDavid Copperfield',\n",
       " 'the GreatTrickstar',\n",
       " 'the GreatDynmo',\n",
       " 'the GreatRock Solid']"
      ]
     },
     "execution_count": 159,
     "metadata": {},
     "output_type": "execute_result"
    }
   ],
   "source": [
    "make_great(magicians_list)"
   ]
  },
  {
   "cell_type": "code",
   "execution_count": 158,
   "id": "693bc8f5-b501-4166-9b29-8b9ddf1a96d6",
   "metadata": {
    "tags": []
   },
   "outputs": [
    {
     "name": "stdout",
     "output_type": "stream",
     "text": [
      "Original List:\n",
      "Teller\n",
      "David Blaine\n",
      "David Copperfield\n",
      "Trickstar\n",
      "Dynmo\n",
      "Rock Solid\n",
      "\n",
      "New list:\n",
      "the GreatTeller\n",
      "the GreatDavid Blaine\n",
      "the GreatDavid Copperfield\n",
      "the GreatTrickstar\n",
      "the GreatDynmo\n",
      "the GreatRock Solid\n"
     ]
    }
   ],
   "source": [
    "def make_great(magicians):\n",
    "    great_magicians = []\n",
    "    for magician in magicians:\n",
    "        \n",
    "        great_magicians.append(\"the Great\" + magician)\n",
    "    return great_magicians\n",
    "\n",
    "magicians_list = [\"Teller\", \"David Blaine\", \"David Copperfield\", \"Trickstar\", \"Dynmo\", \"Rock Solid\"]\n",
    "\n",
    "great_magicians_list = make_great(magicians_list)\n",
    "\n",
    "print(\"Original List:\")\n",
    "for magician in magicians_list:\n",
    "    print(magician)\n",
    "\n",
    "print(\"\\nNew list:\")\n",
    "for great_magician in great_magicians_list:\n",
    "    print(great_magician)\n"
   ]
  },
  {
   "cell_type": "code",
   "execution_count": null,
   "id": "76695ed8-d1ad-449d-bfac-0dc210bdfce4",
   "metadata": {},
   "outputs": [],
   "source": []
  },
  {
   "cell_type": "code",
   "execution_count": null,
   "id": "b0dca44f-ffe1-4fba-884e-967b593d1c5a",
   "metadata": {},
   "outputs": [],
   "source": [
    "#Assignment (4a)"
   ]
  },
  {
   "cell_type": "code",
   "execution_count": 129,
   "id": "64cdc262-2519-4b3c-b930-669b8b156e70",
   "metadata": {
    "tags": []
   },
   "outputs": [
    {
     "name": "stdout",
     "output_type": "stream",
     "text": [
      "[1, 8, 27, 64, 125, 216, 343, 512, 729, 1000]\n"
     ]
    }
   ],
   "source": [
    "cubes = [num**3 for num in range(1,11)]\n",
    "print (cubes)"
   ]
  },
  {
   "cell_type": "code",
   "execution_count": 131,
   "id": "ef3e45ff-fe9f-4113-9f0c-0bc6d55ffa4b",
   "metadata": {
    "tags": []
   },
   "outputs": [
    {
     "name": "stdout",
     "output_type": "stream",
     "text": [
      "Using a for loop.\n",
      "1\n",
      "8\n",
      "27\n",
      "64\n",
      "125\n",
      "216\n",
      "343\n",
      "512\n",
      "729\n",
      "1000\n"
     ]
    }
   ],
   "source": [
    "cubes = [num**3 for num in range(1,11)]\n",
    "print(\"Using a for loop.\")\n",
    "for cube in cubes:\n",
    "      print(cube)"
   ]
  },
  {
   "cell_type": "code",
   "execution_count": 132,
   "id": "b3bb91c1-a75a-42ba-933c-e8632ebf0f60",
   "metadata": {
    "tags": []
   },
   "outputs": [
    {
     "name": "stdout",
     "output_type": "stream",
     "text": [
      "Using list comprehension:\n",
      "1\n",
      "8\n",
      "27\n",
      "64\n",
      "125\n",
      "216\n",
      "343\n",
      "512\n",
      "729\n",
      "1000\n"
     ]
    }
   ],
   "source": [
    "cubes = [num**3 for num in range(1,11)]\n",
    "print(\"Using list comprehension:\")\n",
    "for cube in cubes:\n",
    "      print(cube)"
   ]
  },
  {
   "cell_type": "code",
   "execution_count": null,
   "id": "4efb7e38-a975-41b1-931a-952e6d77dd7a",
   "metadata": {},
   "outputs": [],
   "source": []
  },
  {
   "cell_type": "code",
   "execution_count": null,
   "id": "d381c2b9-fee7-4dd1-b1f5-b50e10b8f4bf",
   "metadata": {},
   "outputs": [],
   "source": [
    "#Assignment (4b)"
   ]
  },
  {
   "cell_type": "code",
   "execution_count": 134,
   "id": "1ba3c48c-cb81-43e2-b7ca-39f8c3503e71",
   "metadata": {
    "tags": []
   },
   "outputs": [
    {
     "name": "stdin",
     "output_type": "stream",
     "text": [
      "Please enter your age (or 'exit' to quit): 13\n"
     ]
    },
    {
     "name": "stdout",
     "output_type": "stream",
     "text": [
      "The cost of your movie ticket is: N10000\n"
     ]
    },
    {
     "name": "stdin",
     "output_type": "stream",
     "text": [
      "Please enter your age (or 'exit' to quit): 4\n"
     ]
    },
    {
     "name": "stdout",
     "output_type": "stream",
     "text": [
      "The cost of your movie ticket is: N5000\n"
     ]
    },
    {
     "name": "stdin",
     "output_type": "stream",
     "text": [
      "Please enter your age (or 'exit' to quit): 50\n"
     ]
    },
    {
     "name": "stdout",
     "output_type": "stream",
     "text": [
      "The cost of your movie ticket is: N10000\n"
     ]
    },
    {
     "name": "stdin",
     "output_type": "stream",
     "text": [
      "Please enter your age (or 'exit' to quit): hh\n"
     ]
    },
    {
     "name": "stdout",
     "output_type": "stream",
     "text": [
      "invalid input.Please enter a valid age or 'exit' to quit.\n"
     ]
    },
    {
     "name": "stdin",
     "output_type": "stream",
     "text": [
      "Please enter your age (or 'exit' to quit): exit\n"
     ]
    },
    {
     "name": "stdout",
     "output_type": "stream",
     "text": [
      "Thank you for your patronage. Have a great day\n"
     ]
    }
   ],
   "source": [
    "while True:\n",
    "    user_input = input(\"Please enter your age (or 'exit' to quit):\")\n",
    "    \n",
    "    if user_input.lower() == \"exit\":\n",
    "        print(\"Thank you for your patronage. Have a great day\")\n",
    "        break\n",
    "        \n",
    "    try:\n",
    "        age = int(user_input)\n",
    "        \n",
    "        if age < 3:\n",
    "            ticket_price = 0\n",
    "        elif 3 <= age <= 12:\n",
    "            ticket_price = 5000\n",
    "        else:\n",
    "            ticket_price = 10000\n",
    "            \n",
    "        print(\"The cost of your movie ticket is: N{}\".format(ticket_price))\n",
    "          \n",
    "    except ValueError:\n",
    "        print(\"invalid input.Please enter a valid age or 'exit' to quit.\")\n",
    "              \n",
    "          \n"
   ]
  },
  {
   "cell_type": "code",
   "execution_count": 136,
   "id": "f86f3bf5-95e4-4625-b022-f5e7c81b72ac",
   "metadata": {
    "tags": []
   },
   "outputs": [
    {
     "name": "stdin",
     "output_type": "stream",
     "text": [
      "Please enter your age (or 'exit' to quit): \n"
     ]
    },
    {
     "name": "stdout",
     "output_type": "stream",
     "text": [
      "invalid input.Please enter a valid age or 'exit' to quit.\n"
     ]
    },
    {
     "name": "stdin",
     "output_type": "stream",
     "text": [
      "Please enter your age (or 'exit' to quit): 2\n"
     ]
    },
    {
     "name": "stdout",
     "output_type": "stream",
     "text": [
      "The cost of your movie ticket is: N0\n"
     ]
    },
    {
     "name": "stdin",
     "output_type": "stream",
     "text": [
      "Please enter your age (or 'exit' to quit): 4\n"
     ]
    },
    {
     "name": "stdout",
     "output_type": "stream",
     "text": [
      "The cost of your movie ticket is: N5000\n"
     ]
    },
    {
     "name": "stdin",
     "output_type": "stream",
     "text": [
      "Please enter your age (or 'exit' to quit): 17\n"
     ]
    },
    {
     "name": "stdout",
     "output_type": "stream",
     "text": [
      "The cost of your movie ticket is: N10000\n"
     ]
    },
    {
     "name": "stdin",
     "output_type": "stream",
     "text": [
      "Please enter your age (or 'exit' to quit): 1\n"
     ]
    },
    {
     "name": "stdout",
     "output_type": "stream",
     "text": [
      "The cost of your movie ticket is: N0\n"
     ]
    },
    {
     "name": "stdin",
     "output_type": "stream",
     "text": [
      "Please enter your age (or 'exit' to quit): exit\n"
     ]
    },
    {
     "name": "stdout",
     "output_type": "stream",
     "text": [
      "Thank you for your patronage. Have a great day\n"
     ]
    }
   ],
   "source": [
    "#Use a conditional test in a while statement to stop the loop.\n",
    "user_input = \"\"\n",
    "\n",
    "\n",
    "while user_input.lower() != \"exit\":\n",
    "    user_input = input(\"Please enter your age (or 'exit' to quit):\")\n",
    "    \n",
    "    if user_input.lower() == \"exit\":\n",
    "        print(\"Thank you for your patronage. Have a great day\")\n",
    "        break\n",
    "        \n",
    "    try:\n",
    "        age = int(user_input)\n",
    "        \n",
    "        if age < 3:\n",
    "            ticket_price = 0\n",
    "        elif 3 <= age <= 12:\n",
    "            ticket_price = 5000\n",
    "        else:\n",
    "            ticket_price = 10000\n",
    "            \n",
    "        print(\"The cost of your movie ticket is: N{}\".format(ticket_price))\n",
    "          \n",
    "    except ValueError:\n",
    "        print(\"invalid input.Please enter a valid age or 'exit' to quit.\")"
   ]
  },
  {
   "cell_type": "code",
   "execution_count": 137,
   "id": "07369515-496b-49a6-bd0f-985ea691ed9a",
   "metadata": {
    "tags": []
   },
   "outputs": [
    {
     "name": "stdin",
     "output_type": "stream",
     "text": [
      "Please enter your age (or 'exit' to quit): 2\n"
     ]
    },
    {
     "name": "stdout",
     "output_type": "stream",
     "text": [
      "The cost of your movie ticket is: N0\n"
     ]
    },
    {
     "name": "stdin",
     "output_type": "stream",
     "text": [
      "Please enter your age (or 'exit' to quit): 5\n"
     ]
    },
    {
     "name": "stdout",
     "output_type": "stream",
     "text": [
      "The cost of your movie ticket is: N5000\n"
     ]
    },
    {
     "name": "stdin",
     "output_type": "stream",
     "text": [
      "Please enter your age (or 'exit' to quit): 7\n"
     ]
    },
    {
     "name": "stdout",
     "output_type": "stream",
     "text": [
      "The cost of your movie ticket is: N5000\n"
     ]
    },
    {
     "name": "stdin",
     "output_type": "stream",
     "text": [
      "Please enter your age (or 'exit' to quit): 8\n"
     ]
    },
    {
     "name": "stdout",
     "output_type": "stream",
     "text": [
      "The cost of your movie ticket is: N5000\n"
     ]
    },
    {
     "name": "stdin",
     "output_type": "stream",
     "text": [
      "Please enter your age (or 'exit' to quit): 9\n"
     ]
    },
    {
     "name": "stdout",
     "output_type": "stream",
     "text": [
      "The cost of your movie ticket is: N5000\n"
     ]
    },
    {
     "name": "stdin",
     "output_type": "stream",
     "text": [
      "Please enter your age (or 'exit' to quit): 0\n"
     ]
    },
    {
     "name": "stdout",
     "output_type": "stream",
     "text": [
      "The cost of your movie ticket is: N0\n"
     ]
    },
    {
     "name": "stdin",
     "output_type": "stream",
     "text": [
      "Please enter your age (or 'exit' to quit): 1\n"
     ]
    },
    {
     "name": "stdout",
     "output_type": "stream",
     "text": [
      "The cost of your movie ticket is: N0\n"
     ]
    },
    {
     "name": "stdin",
     "output_type": "stream",
     "text": [
      "Please enter your age (or 'exit' to quit): 55\n"
     ]
    },
    {
     "name": "stdout",
     "output_type": "stream",
     "text": [
      "The cost of your movie ticket is: N10000\n"
     ]
    },
    {
     "name": "stdin",
     "output_type": "stream",
     "text": [
      "Please enter your age (or 'exit' to quit): \n"
     ]
    },
    {
     "name": "stdout",
     "output_type": "stream",
     "text": [
      "invalid input.Please enter a valid age or 'exit' to quit.\n"
     ]
    },
    {
     "name": "stdin",
     "output_type": "stream",
     "text": [
      "Please enter your age (or 'exit' to quit): \n"
     ]
    },
    {
     "name": "stdout",
     "output_type": "stream",
     "text": [
      "invalid input.Please enter a valid age or 'exit' to quit.\n"
     ]
    },
    {
     "name": "stdin",
     "output_type": "stream",
     "text": [
      "Please enter your age (or 'exit' to quit): \n"
     ]
    },
    {
     "name": "stdout",
     "output_type": "stream",
     "text": [
      "invalid input.Please enter a valid age or 'exit' to quit.\n"
     ]
    },
    {
     "name": "stdin",
     "output_type": "stream",
     "text": [
      "Please enter your age (or 'exit' to quit): \n"
     ]
    },
    {
     "name": "stdout",
     "output_type": "stream",
     "text": [
      "invalid input.Please enter a valid age or 'exit' to quit.\n"
     ]
    },
    {
     "name": "stdin",
     "output_type": "stream",
     "text": [
      "Please enter your age (or 'exit' to quit): exit\n"
     ]
    },
    {
     "name": "stdout",
     "output_type": "stream",
     "text": [
      "Thank you for your patronage. Have a great day\n",
      "invalid input.Please enter a valid age or 'exit' to quit.\n"
     ]
    }
   ],
   "source": [
    "#Use an active variable to control how long the loop runs.\n",
    "\n",
    "active = True\n",
    "\n",
    "\n",
    "while active:\n",
    "    user_input = input(\"Please enter your age (or 'exit' to quit):\")\n",
    "    \n",
    "    if user_input.lower() == \"exit\":\n",
    "        print(\"Thank you for your patronage. Have a great day\")\n",
    "        active = False\n",
    "        \n",
    "    try:\n",
    "        age = int(user_input)\n",
    "        \n",
    "        if age < 3:\n",
    "            ticket_price = 0\n",
    "        elif 3 <= age <= 12:\n",
    "            ticket_price = 5000\n",
    "        else:\n",
    "            ticket_price = 10000\n",
    "            \n",
    "        print(\"The cost of your movie ticket is: N{}\".format(ticket_price))\n",
    "          \n",
    "    except ValueError:\n",
    "        print(\"invalid input.Please enter a valid age or 'exit' to quit.\")"
   ]
  },
  {
   "cell_type": "code",
   "execution_count": 138,
   "id": "00a9ac06-809c-4927-a23f-d54fc67928f8",
   "metadata": {
    "tags": []
   },
   "outputs": [
    {
     "name": "stdin",
     "output_type": "stream",
     "text": [
      "Please enter your age (or 'exit' to quit): 6\n"
     ]
    },
    {
     "name": "stdout",
     "output_type": "stream",
     "text": [
      "The cost of your movie ticket is: N5000\n"
     ]
    },
    {
     "name": "stdin",
     "output_type": "stream",
     "text": [
      "Please enter your age (or 'exit' to quit): 99\n"
     ]
    },
    {
     "name": "stdout",
     "output_type": "stream",
     "text": [
      "The cost of your movie ticket is: N10000\n"
     ]
    },
    {
     "name": "stdin",
     "output_type": "stream",
     "text": [
      "Please enter your age (or 'exit' to quit): 12\n"
     ]
    },
    {
     "name": "stdout",
     "output_type": "stream",
     "text": [
      "The cost of your movie ticket is: N5000\n"
     ]
    },
    {
     "name": "stdin",
     "output_type": "stream",
     "text": [
      "Please enter your age (or 'exit' to quit): 15\n"
     ]
    },
    {
     "name": "stdout",
     "output_type": "stream",
     "text": [
      "The cost of your movie ticket is: N10000\n"
     ]
    },
    {
     "name": "stdin",
     "output_type": "stream",
     "text": [
      "Please enter your age (or 'exit' to quit): 1\n"
     ]
    },
    {
     "name": "stdout",
     "output_type": "stream",
     "text": [
      "The cost of your movie ticket is: N0\n"
     ]
    },
    {
     "name": "stdin",
     "output_type": "stream",
     "text": [
      "Please enter your age (or 'exit' to quit): 0\n"
     ]
    },
    {
     "name": "stdout",
     "output_type": "stream",
     "text": [
      "The cost of your movie ticket is: N0\n"
     ]
    },
    {
     "name": "stdin",
     "output_type": "stream",
     "text": [
      "Please enter your age (or 'exit' to quit): quit\n"
     ]
    },
    {
     "name": "stdout",
     "output_type": "stream",
     "text": [
      "Thank you for your patronage. Have a great day\n"
     ]
    }
   ],
   "source": [
    "#Use a Break statement to exit the loop when the user enters the 'quit' value.\n",
    "\n",
    "while True:\n",
    "    user_input = input(\"Please enter your age (or 'exit' to quit):\")\n",
    "    \n",
    "    if user_input.lower() == \"quit\":\n",
    "        print(\"Thank you for your patronage. Have a great day\")\n",
    "        break\n",
    "        \n",
    "    try:\n",
    "        age = int(user_input)\n",
    "        \n",
    "        if age < 3:\n",
    "            ticket_price = 0\n",
    "        elif 3 <= age <= 12:\n",
    "            ticket_price = 5000\n",
    "        else:\n",
    "            ticket_price = 10000\n",
    "            \n",
    "        print(\"The cost of your movie ticket is: N{}\".format(ticket_price))\n",
    "          \n",
    "    except ValueError:\n",
    "        print(\"invalid input.Please enter a valid age or 'exit' to quit.\")"
   ]
  },
  {
   "cell_type": "code",
   "execution_count": null,
   "id": "8b8210f1-4e50-455b-b593-1875d84b14b0",
   "metadata": {},
   "outputs": [],
   "source": []
  },
  {
   "cell_type": "code",
   "execution_count": null,
   "id": "66debf29-2fdf-40e7-80b9-dd8864c1e237",
   "metadata": {},
   "outputs": [],
   "source": [
    "#Assignment (5a)"
   ]
  },
  {
   "cell_type": "code",
   "execution_count": 141,
   "id": "077c9305-a003-421a-8935-c13cec291c09",
   "metadata": {
    "tags": []
   },
   "outputs": [
    {
     "name": "stdout",
     "output_type": "stream",
     "text": [
      "CONGRATULATIONA! YOU HAVE EARNED 5 POINTS.\n"
     ]
    }
   ],
   "source": [
    "#The Passing Version\n",
    "\n",
    "alien_colour = 'green'\n",
    "\n",
    "if alien_colour == 'green':\n",
    "    print(\"CONGRATULATIONA! YOU HAVE EARNED 5 POINTS.\")\n",
    "          "
   ]
  },
  {
   "cell_type": "code",
   "execution_count": 143,
   "id": "101a3065-fb89-4715-9db0-342aa0bd6b6c",
   "metadata": {
    "tags": []
   },
   "outputs": [],
   "source": [
    "#The Failing Version - no output if wrong\n",
    "\n",
    "alien_colour = 'yellow'\n",
    "\n",
    "if alien_colour == 'green':\n",
    "    print(\"CONGRATULATIONA! YOU HAVE EARNED 5 POINTS.\")"
   ]
  },
  {
   "cell_type": "code",
   "execution_count": null,
   "id": "e77b0d25-41c6-42f0-91ec-862f3f0e3549",
   "metadata": {},
   "outputs": [],
   "source": [
    "#Assignment (5b)"
   ]
  },
  {
   "cell_type": "code",
   "execution_count": 148,
   "id": "1f7182ab-10da-4f00-b023-af999883febd",
   "metadata": {
    "tags": []
   },
   "outputs": [
    {
     "name": "stdout",
     "output_type": "stream",
     "text": [
      "Congratulations! You just earned 5 points for shooting down the alien.\n",
      "Congratulations! You just earned 10 points.\n"
     ]
    }
   ],
   "source": [
    "#Version 1 - If Bloclk:\n",
    "    \n",
    "alien_color = \"green\"\n",
    "\n",
    "if alien_color == \"green\":\n",
    "    print(\"Congratulations! You just earned 5 points for shooting down the alien.\")\n",
    "else:\n",
    "    print (\"Congratulations! You just earned 10 points.\")\n",
    "           \n",
    "           \n",
    "\n",
    "#Version 2 - Else Block\n",
    "\n",
    "alien_color = \"red\"\n",
    "\n",
    "if alien_color == \"green\":\n",
    "    print(\"Congratulations! You just earned 5 points for shooting down the alien,\")\n",
    "else:\n",
    "    print (\"Congratulations! You just earned 10 points.\")"
   ]
  },
  {
   "cell_type": "code",
   "execution_count": null,
   "id": "e0866d72-e5c5-4c62-9ba1-7055ded1904c",
   "metadata": {},
   "outputs": [],
   "source": []
  },
  {
   "cell_type": "code",
   "execution_count": null,
   "id": "0656d607-aa9d-4fe5-9f89-353310b22980",
   "metadata": {},
   "outputs": [],
   "source": [
    "#Assignment (5c)"
   ]
  },
  {
   "cell_type": "code",
   "execution_count": 155,
   "id": "21c7728d-ad4f-4d13-bd8d-d03eaf76f748",
   "metadata": {
    "tags": []
   },
   "outputs": [
    {
     "name": "stdout",
     "output_type": "stream",
     "text": [
      "Congratulations! You just earned 5 Points.\n",
      "Congratulations! You just earned 10 points,\n",
      "Congratulations! You just earned 15 points.\n"
     ]
    }
   ],
   "source": [
    "#Version 1 \n",
    "alien_color = \"green\"\n",
    "\n",
    "if alien_color == \"green\":\n",
    "    print(\"Congratulations! You just earned 5 Points.\")\n",
    "elif alien_colour == \"yellow\":\n",
    "    print(\"Congratulations! You just earned 10 points,\")\n",
    "else:\n",
    "    print(\"Congratulations! You just earned 15 points.\")\n",
    "    \n",
    "\n",
    "alien_color = \"yellow\"\n",
    "\n",
    "if alien_color == \"green\":\n",
    "    print(\"Congratulations! You just earned 5 Points.\")\n",
    "elif alien_colour == \"yellow\":\n",
    "    print(\"Congratulations! You just earned 10 points,\")\n",
    "else:\n",
    "    print(\"Congratulations! You just earned 15 points.\")\n",
    "    \n",
    "    \n",
    "alien_color = \"red\"\n",
    "\n",
    "if alien_color == \"green\":\n",
    "    print(\"Congratulations! You just earned 5 Points.\")\n",
    "elif alien_colour == \"red\":\n",
    "    print(\"Congratulations! You just earned 10 points,\")\n",
    "else:\n",
    "    print(\"Congratulations! You just earned 15 points.\")"
   ]
  },
  {
   "cell_type": "code",
   "execution_count": null,
   "id": "1b188ddf-a1a7-41ab-b4dd-e49e8af4ba6a",
   "metadata": {},
   "outputs": [],
   "source": []
  }
 ],
 "metadata": {
  "kernelspec": {
   "display_name": "Python 3 (ipykernel)",
   "language": "python",
   "name": "python3"
  },
  "language_info": {
   "codemirror_mode": {
    "name": "ipython",
    "version": 3
   },
   "file_extension": ".py",
   "mimetype": "text/x-python",
   "name": "python",
   "nbconvert_exporter": "python",
   "pygments_lexer": "ipython3",
   "version": "3.11.3"
  }
 },
 "nbformat": 4,
 "nbformat_minor": 5
}
