{
 "cells": [
  {
   "cell_type": "code",
   "execution_count": 2,
   "metadata": {},
   "outputs": [
    {
     "name": "stdout",
     "output_type": "stream",
     "text": [
      "19\n"
     ]
    }
   ],
   "source": [
    "Name:-           Ibrahim Nuhu Aliyu\n",
    "Exam No.:-       20223023\n",
    "Department:-     Computer Engineering\n",
    "Course Tittle:-  Advanced Programming\n",
    "Course Code:-    CPE 802\n",
    "Course Tutor:-   Dr. Emmanuel Ali "
   ]
  },
  {
   "cell_type": "code",
   "execution_count": 2,
   "metadata": {},
   "outputs": [
    {
     "name": "stdout",
     "output_type": "stream",
     "text": [
      "Hello, Ibrahim Nuhu Aliyu , I Am Taking Some Python Classes?\n",
      " \n",
      "The names are printed in lower case as:  ibrahim nuhu aliyu\n",
      "The names are printed in upper case as:  IBRAHIM NUHU ALIYU\n",
      "The names are printed in title case as:  Ibrahim Nuhu Aliyu\n"
     ]
    }
   ],
   "source": [
    "# Q1\n",
    "# a) Store your name in a variable, and print a message about the python class. \n",
    "# Your message should be simple, such as, “Hello {Your Name}, I am taking some Python classes?” \n",
    "# Additionally, print your name in lowercase, uppercase, and titlecase and repeat sentences respectively.\n",
    "\n",
    "string = \"Ibrahim Nuhu Aliyu\" # Variable decleration \n",
    "print('Hello, {}'.format(string),\",\",'I Am Taking Some Python Classes?') # Printing method\n",
    "\n",
    "print(\" \") # printing method just to gap or space in between the our put\n",
    "print(\"The names are printed in lower case as: \",string.lower()) # Pringing method\n",
    "print(\"The names are printed in upper case as: \",string.upper()) # Pringing method\n",
    "print(\"The names are printed in title case as: \",string.title()) # Pringing method\n"
   ]
  },
  {
   "cell_type": "code",
   "execution_count": 19,
   "metadata": {},
   "outputs": [
    {
     "name": "stdout",
     "output_type": "stream",
     "text": [
      "George Eliot once said, \"It is never too late to be what you might have been\"\n"
     ]
    }
   ],
   "source": [
    "# b) Find a quote from a famous person you admire and store the famous person’s name in a variable called famous_person. \n",
    "# Then compose your message and store it in a new variable called message. \n",
    "# Print your message with the quote and the name of its author. Your output should look something like the following, \n",
    "# including the quotation marks: Albert Einstein once said, “A person who never made a mistake never tried anything new.”\n",
    "\n",
    "famous_person = \"George Eliot once said,\" # Variable Decleration\n",
    "message = '\"It is never too late to be what you might have been\"' # Variable Deleration\n",
    "print(famous_person, '{}'.format(message)) # Printing Method"
   ]
  },
  {
   "cell_type": "code",
   "execution_count": 1,
   "metadata": {},
   "outputs": [
    {
     "name": "stdout",
     "output_type": "stream",
     "text": [
      "The names in the list are as follows:\n",
      "Garkuwa\n",
      "Umar\n",
      "Sadiq\n",
      " \n",
      "Garkuwa Good evening, today is our programming class\n",
      "Umar Good evening, today is our programming class\n",
      "Sadiq Good evening, today is our programming class\n"
     ]
    }
   ],
   "source": [
    "# c) Store the names of a few of your classmates in a list called names. \n",
    "# Print each person’s name by accessing each element in the list, one at a time. \n",
    "# Also, print a message to them. The text of each message should be the same, \n",
    "# but each message should be personalized with the person’s name.\n",
    "\n",
    "names = ['Garkuwa', 'Umar', 'Sadiq'] # List\n",
    "message = \"Good evening, today is our programming class\" # Variable Decleration\n",
    "\n",
    "print(\"The names in the list are as follows:\") # Printing method\n",
    "print(names[0]) # Printing method\n",
    "print(names[1]) # Printing method\n",
    "print(names[2]) # Printing method\n",
    "\n",
    "print(\" \") # Printing method\n",
    "print(names[0], '{}'.format(message)) # Printing method\n",
    "print(names[1], '{}'.format(message)) # Printing method\n",
    "print(names[2], '{}'.format(message)) # Printing method"
   ]
  },
  {
   "cell_type": "code",
   "execution_count": 47,
   "metadata": {},
   "outputs": [
    {
     "name": "stdout",
     "output_type": "stream",
     "text": [
      "Muhmud, On behave of Department of Computer Engineering, i am inviting you to our graduation ceremony 0n 15th Dec., 2023.\n",
      "Haruna, On behave of Department of Computer Engineering, i am inviting you to our graduation ceremony 0n 15th Dec., 2023.\n",
      "Ibrahim, On behave of Department of Computer Engineering, i am inviting you to our graduation ceremony 0n 15th Dec., 2023.\n",
      " \n",
      "The name of the guest that can't make it is:  Ibrahim,\n",
      " \n",
      "Muhmud, On behave of Department of Computer Engineering, i am inviting you to our graduation ceremony 0n 15th Dec., 2023.\n",
      "Haruna, On behave of Department of Computer Engineering, i am inviting you to our graduation ceremony 0n 15th Dec., 2023.\n",
      "Aliyu,  On behave of Department of Computer Engineering, i am inviting you to our graduation ceremony 0n 15th Dec., 2023.\n",
      " \n",
      "This is to notify you that; i have been given more space to invite more guest to the graduation ceremony\n",
      " \n",
      "Salisu, On behave of Department of Computer Engineering, i am inviting you to our graduation ceremony 0n 15th Dec., 2023.\n",
      "Muhmud, On behave of Department of Computer Engineering, i am inviting you to our graduation ceremony 0n 15th Dec., 2023.\n",
      "Haruna, On behave of Department of Computer Engineering, i am inviting you to our graduation ceremony 0n 15th Dec., 2023.\n",
      "Aliyu,  On behave of Department of Computer Engineering, i am inviting you to our graduation ceremony 0n 15th Dec., 2023.\n",
      "Sanda,  On behave of Department of Computer Engineering, i am inviting you to our graduation ceremony 0n 15th Dec., 2023.\n",
      "Buhari, On behave of Department of Computer Engineering, i am inviting you to our graduation ceremony 0n 15th Dec., 2023.\n",
      "Halima, On behave of Department of Computer Engineering, i am inviting you to our graduation ceremony 0n 15th Dec., 2023.\n",
      "Yusuf,  On behave of Department of Computer Engineering, i am inviting you to our graduation ceremony 0n 15th Dec., 2023.\n",
      "Aisha,  On behave of Department of Computer Engineering, i am inviting you to our graduation ceremony 0n 15th Dec., 2023.\n",
      " \n",
      "Sorry! friends i just received a message that i have only space of two person to attend the graduation ceremony. Thenks\n",
      " \n",
      "Salisu, Sorry! Your invitation has been cancil due to the suddently changes in the department. Thanks\n",
      "Haruna, Sorry! Your invitation has been cancil due to the suddently changes in the department. Thanks\n",
      "Sanda,  Sorry! Your invitation has been cancil due to the suddently changes in the department. Thanks\n",
      "Muhmud, Sorry! Your invitation has been cancil due to the suddently changes in the department. Thanks\n",
      "Buhari, Sorry! Your invitation has been cancil due to the suddently changes in the department. Thanks\n",
      "Yusuf,  Sorry! Your invitation has been cancil due to the suddently changes in the department. Thanks\n",
      "Aliyu,  Sorry! Your invitation has been cancil due to the suddently changes in the department. Thanks\n",
      " \n",
      "Halima, You are still invited despite the suddendly change in the department, same date. Thanks\n",
      "Aisha,  You are still invited despite the suddendly change in the department, same date. Thanks\n",
      " \n",
      "The list is sorted in ascending order:  ['Aisha, ', 'Halima,']\n",
      "The list is sorted in decending order: ['Halima,', 'Aisha, ']\n",
      " \n",
      "The list is now empty []\n"
     ]
    }
   ],
   "source": [
    "# 2) \n",
    "# This is a question with a series of steps, and you are to answer sequentially. Ensure to implement every line.\n",
    "# If you could invite anyone, living or deceased, to your graduation, who would you invite? \n",
    "# Make a list that includes at least three people you’d like to invite to graduation. \n",
    "# Then use your list to print a message to each person, inviting them to graduation.\n",
    "# You just heard that one of your guests can’t make the graduation, so you need to send out a new set of invitations. \n",
    "# You’ll have to think of someone else to invite.\n",
    "# Add a print statement at the end of your program stating the name of the guest who can’t make it.\n",
    "# Modify your list, replacing the name of the guest who can’t make it with the name of the new person you are inviting.\n",
    "# Print a second set of invitation messages, one for each person who is still in your list.\n",
    "# You just found you are allowed more guests at the graduation, so now more space is available. \n",
    "# Think of three more guests to invite to graduation. \n",
    "# Add a print statement to the end of your program informing people that you allowed more guests.\n",
    "# Use insert() to add one new guest to the beginning of your list.\n",
    "# Use insert() to add one new guest to the middle of your list.\n",
    "# Use append() to add one new guest to the end of your list.\n",
    "# Print a new set of invitation messages, one for each person in your list.\n",
    "# You just found out that organizational issues have affected the graduation, and you have space for only two guests. \n",
    "# Add a new line that prints a message saying that you can invite only two people for graduation.\n",
    "# Use pop() to remove guests from your list one at a time until only two names remain in your list. \n",
    "# Each time you pop a name from your list, print a message to that person letting them know you’re sorry you can’t invite them to graduation.\n",
    "# Print a message to each of the two people still on your list, letting them know they’re still invited.\n",
    "# Sort the remaining guest list so it’s stored in alphabetical order. Print the list to show that its order has been changed.\n",
    "# Reverse the guest to change the order of your list again. Print the list to show its reverse order.\n",
    "# Use del to remove the last two names from your list, so you have an empty list. \n",
    "# Print your list to make sure you actually have an empty list at the end of your program.\n",
    "\n",
    "invite = ['Muhmud,', 'Haruna,', 'Ibrahim,'] # List\n",
    "message = \"On behave of Department of Computer Engineering, i am inviting you to our graduation ceremony 0n 15th Dec., 2023.\"\n",
    "\n",
    "\n",
    "\n",
    "print(invite[0], '{}'.format(message)) # Printing method\n",
    "print(invite[1], '{}'.format(message)) # Printing method\n",
    "print(invite[2], '{}'.format(message)) # Printing method\n",
    "\n",
    "print(\" \") # Printing method\n",
    "notmake = \"The name of the guest that can't make it is: \" # Printing method\n",
    "print('{}'.format(notmake), invite[2],) # Printing method\n",
    "\n",
    "print(\" \") # Printing method\n",
    "invite[2] = 'Aliyu, ' # It insert Aliyu at index 2 in the list\n",
    "print(invite[0], '{}'.format(message)) # Printing method\n",
    "print(invite[1], '{}'.format(message)) # Printing method\n",
    "print(invite[2], '{}'.format(message)) # Printing method\n",
    "\n",
    "print(\" \") # Printing method\n",
    "invite.append('Buhari,') # Append to the last index in the list\n",
    "invite.append('Halima,') # Appened to the last index in the list\n",
    "invite.append('Yusuf, ') # Append to the last index in the list\n",
    "\n",
    "print(\"This is to notify you that; i have been given more space to invite more guest to the graduation ceremony\") \n",
    "\n",
    "print(\" \") # Printing method\n",
    "invite.insert(0,'Salisu,') # Insert nethod which insert at index 0\n",
    "invite.insert(4,'Sanda, ') # Insert method which insert at index 4\n",
    "invite.append('Aisha, ') # Appened to the last element in the list\n",
    "print(invite[0], '{}'.format(message)) # Printing method\n",
    "print(invite[1], '{}'.format(message)) # Printing method\n",
    "print(invite[2], '{}'.format(message)) # Printing method\n",
    "print(invite[3], '{}'.format(message)) # Printing method\n",
    "print(invite[4], '{}'.format(message)) # Printing method\n",
    "print(invite[5], '{}'.format(message)) # Printing method\n",
    "print(invite[6], '{}'.format(message)) # Printing method\n",
    "print(invite[7], '{}'.format(message)) # Printing method\n",
    "print(invite[8], '{}'.format(message)) # Printing method\n",
    "print(\" \") # Printing method\n",
    "\n",
    "print(\"Sorry! friends i just received a message that i have only space of two person to attend the graduation ceremony. Thenks\")\n",
    "print(\" \") # Printing method\n",
    "\n",
    "sms = \"Sorry! Your invitation has been cancil due to the suddently changes in the department. Thanks\" # Printing method\n",
    "print(invite.pop(0), '{}'.format(sms)) # Printing method\n",
    "print(invite.pop(1), '{}'.format(sms)) # Printing method\n",
    "print(invite.pop(2), '{}'.format(sms)) # Printing method\n",
    "print(invite.pop(0), '{}'.format(sms)) # Printing method\n",
    "print(invite.pop(1), '{}'.format(sms)) # Printing method\n",
    "print(invite.pop(2), '{}'.format(sms)) # Printing method\n",
    "print(invite.pop(0), '{}'.format(sms)) # Printing method\n",
    "\n",
    "print(\" \") # Printing method\n",
    "reinvit = \"You are still invited despite the suddendly change in the department, same date. Thanks\" # variable decleration\n",
    "print(invite[0], '{}'.format(reinvit)) # Printing method\n",
    "print(invite[1], '{}'.format(reinvit)) # Printing method\n",
    "print(\" \") # Printing method\n",
    "\n",
    "print(\"The list is sorted in ascending order: \", sorted(invite)) # Printing method and sorting method which sort from A to Z\n",
    "\n",
    "invite.sort(reverse = True) # reverse method which reverse from z to A\n",
    "print(\"The list is sorted in decending order:\", invite) # Printing method\n",
    "\n",
    "print(\" \") # Printing method\n",
    "del invite[0] # Delete Method\n",
    "del invite[0] # Delete Method\n",
    "print(\"The list is now empty\", invite) # Printing method"
   ]
  },
  {
   "cell_type": "code",
   "execution_count": 12,
   "metadata": {},
   "outputs": [
    {
     "name": "stdout",
     "output_type": "stream",
     "text": [
      "{'artist': 'Peter Saville', 'title': 'Power', 'tracks': 5}\n",
      "{'artist': 'Raymond', 'title': 'Sonic'}\n",
      "{'artist': 'Gerhard', 'title': 'Day', 'tracks': 9}\n",
      "Enter the artist (type 'quit' to exit): Hamisu Breaker\n",
      "Enter the album title: Jaruman Hausa\n",
      "{'artist': 'Hamisu Breaker', 'title': 'Jaruman Hausa'}\n",
      "Enter the artist (type 'quit' to exit): quit\n"
     ]
    }
   ],
   "source": [
    "# 3)\n",
    "# a) Write a function called make_album() that builds a dictionary describing a music album. \n",
    "# The function should take in an artist name and an album title, \n",
    "# and it should return a dictionary containing these two pieces of information. \n",
    "# Use the function to make three dictionaries representing different albums. \n",
    "# Print each return value to show that the dictionaries are storing the album information correctly.\n",
    "# Add an optional parameter to make_album() that allows you to store the number of tracks on an album.\n",
    "# If the calling line includes a value for the number of tracks, add that value to the album’s dictionary. \n",
    "# Make at least one new function call that includes the number of tracks on an album.\n",
    "# Write a while loop that allows users to enter an album’s artist and title. \n",
    "# Once you have that information, call make_album() with the user’s input and print the dictionary that’s created. \n",
    "# Be sure to include a quit value in the while loop.\n",
    "\n",
    "def make_album(artist, title, tracks=None): # Function with a name call make_album with three parameters \n",
    "    album = {'artist': artist, 'title': title} # Dectionary \n",
    "    if tracks: # if statement\n",
    "        album['tracks'] = tracks # List\n",
    "    return album # Return statement\n",
    "\n",
    "# Three different dictionaries representing different albums\n",
    "album1 = make_album('Peter Saville', 'Power', 5)\n",
    "album2 = make_album('Raymond', 'Sonic')\n",
    "album3 = make_album('Gerhard', 'Day', 9)\n",
    "\n",
    "print(album1) # Printing method\n",
    "print(album2) # Printing method\n",
    "print(album3) # Printing method\n",
    "\n",
    "\n",
    "while True: # While loop\n",
    "    artist_input = input(\"Enter the artist (type 'quit' to exit): \") # Read input from users\n",
    "    if artist_input.lower() == 'quit': # If statement\n",
    "        break # Break Keyword\n",
    "    \n",
    "    title_input = input(\"Enter the album title: \") # Method that read input from users\n",
    "    \n",
    "    # Call make_album() with the user's input \n",
    "    user_album = make_album(artist_input, title_input)  # Call make_album() with the user's input \n",
    "    print(user_album) # Printing method\n",
    "\n",
    "\n"
   ]
  },
  {
   "cell_type": "code",
   "execution_count": 11,
   "metadata": {},
   "outputs": [
    {
     "name": "stdout",
     "output_type": "stream",
     "text": [
      "Original List:\n",
      "Hamisu Breaker\n",
      "Adamu Zango\n",
      "Burna Boy\n",
      "Wizkid\n",
      "\n",
      "List with 'Great' added:\n",
      "Great Hamisu Breaker\n",
      "Great Adamu Zango\n",
      "Great Burna Boy\n",
      "Great Wizkid\n",
      "\n",
      "Original List (unchanged):\n",
      "Hamisu Breaker\n",
      "Adamu Zango\n",
      "Burna Boy\n",
      "Wizkid\n"
     ]
    }
   ],
   "source": [
    "# b)\n",
    "# Make a list of magician’s names. \n",
    "# Pass the list to a function called show_magicians(), which prints the name of each magician in the list.\n",
    "# Write a function called make_great() that modifies the list of magicians by adding the phrase the Great to each magician’s name. Call show_magicians() to see that the list has actually been modified.\n",
    "# Call the function make_great() with a copy of the list of magicians’ names. \n",
    "# Because the original list will be unchanged, return the new list and store it in a separate list.\n",
    "# Call show_magicians() with each list to show that you have one list of the original names and one list with the Great \n",
    "# added to each magician’s name.\n",
    "\n",
    "def show_musicians(musicians): # Function decleration\n",
    "    for musician in musicians: # for loop\n",
    "        print(musician) # Call make_album() with the user's input \n",
    "\n",
    "def make_great(musicians): # Function \n",
    "    great_musicians = [f\"Great {musician}\" for musician in musicians] # List dectionary and for statement\n",
    "    return great_musicians # Return statement\n",
    "\n",
    "# List of musicians\n",
    "musicians_list = [\"Hamisu Breaker\", \"Adamu Zango\", \"Burna Boy\", \"Wizkid\"] # List of musicians\n",
    "\n",
    "print(\"Original List:\") # Call show_musicians to display original list\n",
    "show_musicians(musicians_list)\n",
    "\n",
    "new_list = make_great(musicians_list.copy()) #function taht store the result in a new list\n",
    "\n",
    "print(\"\\nList with 'Great' added:\") # Printing method that display modified list\n",
    "show_musicians(new_list) # Method\n",
    "\n",
    "print(\"\\nOriginal List (unchanged):\") # Function that to display the original list again\n",
    "show_musicians(musicians_list) # Method"
   ]
  },
  {
   "cell_type": "code",
   "execution_count": 22,
   "metadata": {},
   "outputs": [
    {
     "name": "stdout",
     "output_type": "stream",
     "text": [
      "1\n",
      "8\n",
      "27\n",
      "64\n",
      "125\n",
      "216\n",
      "343\n",
      "512\n",
      "729\n",
      "The number of cube from first 10 cubes are as: [1, 8, 27, 64, 125, 216, 343, 512, 729]\n"
     ]
    }
   ],
   "source": [
    "# 4)\n",
    "# a) A number raised to the third power is called a cube. For example, the cube of 2 is written as 2**3 in Python. \n",
    "# Make a list of the first 10 cubes (that is, the cube of each integer from 1 through 10), \n",
    "# and use a for loop to print out the value of each cube.\n",
    "# Also, use a list comprehension to generate a list of the first 10 cubes.\n",
    "\n",
    "cubes = [] # List\n",
    "for val in range(1,10): # For statement which range from 1 to 10\n",
    "    result = val**3 # variable\n",
    "    cubes.append(result) # Method\n",
    "    print(result) # Pringing method\n",
    "    \n",
    "\n",
    "cubes_lc = [i**3 for i in range(1,10)] # List\n",
    "print(\"The numbers of cube from first 10 cubes are as:\", cubes_lc) # Printing method\n",
    "\n"
   ]
  },
  {
   "cell_type": "code",
   "execution_count": 26,
   "metadata": {},
   "outputs": [
    {
     "name": "stdout",
     "output_type": "stream",
     "text": [
      " Please enter age and (quit to exit): 1\n",
      "The ticket is free for under age\n",
      " Please enter age and (quit to exit): 5\n",
      "The ticket is N5000\n",
      " Please enter age and (quit to exit): 9\n",
      "The ticket is N5000\n",
      " Please enter age and (quit to exit): 15\n",
      "The ticket is N10000\n",
      " Please enter age and (quit to exit): quit\n"
     ]
    }
   ],
   "source": [
    "# b) A movie theater charges different ticket prices depending on a person’s age. \n",
    "# If a person is under the age of 3, the ticket is free; if they are between 3 and 12, the ticket is N5,000;\n",
    "# and if they are over age 12, the ticket is N10,000. Write a loop in which you ask users their age, \n",
    "# and then tell them the cost of their movie ticket.\n",
    "# Write different versions that do each of the following at least once:\n",
    "# Use a conditional test in the while statement to stop the loop.\n",
    "# Use an active variable to control how long the loop runs.\n",
    "# Use a break statement to exit the loop when the user enters a 'quit' value.\n",
    "\n",
    "while True: # while statement\n",
    "    age = input(\" Please enter age and (quit to exit): \") # Read input from the users\n",
    "    \n",
    "    if age.lower() == 'quit': # If statement\n",
    "        break  # Exit the loop if the user enters 'quit'\n",
    "    \n",
    "    age = int(age) # method\n",
    "    \n",
    "    if age < 3: # If Statement\n",
    "        print(\"The ticket is free for under age\") # Printing method\n",
    "    elif 3 <= age <= 12: # elif statement\n",
    "        print(\"The ticket is N5000\") # printing method\n",
    "    else: # else statement\n",
    "        print(\"The ticket is N10000\") # Printing method\n"
   ]
  },
  {
   "cell_type": "code",
   "execution_count": 40,
   "metadata": {},
   "outputs": [
    {
     "name": "stdout",
     "output_type": "stream",
     "text": [
      "The player just earned 5 points.\n"
     ]
    }
   ],
   "source": [
    "# 5)\n",
    "# a)Imagine an alien was just shot down in a game. \n",
    "# Create a variable called alien_color and assign it a value of 'green', 'yellow', or 'red'.\n",
    "# Write an if statement to test whether the alien’s color is green. \n",
    "# If it is, print a message that the player just earned 5 points.\n",
    "\n",
    "alien_color = \"Green\" # Variable decleration\n",
    "if alien_color == \"Green\": # If statement\n",
    "    print(\"The player just earned 5 points.\") # Method\n",
    "\n"
   ]
  },
  {
   "cell_type": "code",
   "execution_count": 41,
   "metadata": {},
   "outputs": [],
   "source": [
    "# Write one version of this program that passes the if test and another that fails.\n",
    "# (The version that fails will have no output.)\n",
    "\n",
    "alien_color = \"Red\" # Variable decleration\n",
    "if alien_color == \"Green\": # If statement\n",
    "    print(\"The prayer just earned 5 points.\") # printing method\n"
   ]
  },
  {
   "cell_type": "code",
   "execution_count": 43,
   "metadata": {},
   "outputs": [
    {
     "name": "stdout",
     "output_type": "stream",
     "text": [
      "The player just earned 10 points\n"
     ]
    }
   ],
   "source": [
    "# b)\n",
    "# Write an if-else chain.\n",
    "# If the alien’s color is green, print a statement that the player just earned 5 points for shooting the alien.\n",
    "# If the alien’s color isn’t green, print a statement that the player just earned 10 points.\n",
    "# Write one version of this program that runs the if block and another that runs the else block.\n",
    "\n",
    "alien_color = \"Red\" # Variable decleration\n",
    "if alien_color ==\"Green\": # If statement\n",
    "    print(\"The Plaer just earned 5 points\") # printing method\n",
    "else: # If statement\n",
    "    print(\"The player just earned 10 points\") # printing method\n",
    "    \n",
    "\n"
   ]
  },
  {
   "cell_type": "code",
   "execution_count": 45,
   "metadata": {},
   "outputs": [
    {
     "name": "stdout",
     "output_type": "stream",
     "text": [
      "The player just earned 5 points\n"
     ]
    }
   ],
   "source": [
    "# c)\n",
    "# Write an if-elif-else chain.\n",
    "# If the alien is green, print a message that the player earned 5 points.\n",
    "# Write three versions of this program, making sure each message is printed for the appropriate color alien.\n",
    "\n",
    "alien_color = \"green\" # Variable decleration\n",
    "if alien_color ==\"green\": # If statement\n",
    "    print(\"The player just earned 5 points\") # Printing Method\n",
    "elif alien_color ==\"yellow\": # Elif statement\n",
    "    print(\"The player just earned 10 points\") # Printing method\n",
    "else: # else statement\n",
    "    print(\"The player just earned 15 points\") # Printing method\n",
    "\n"
   ]
  },
  {
   "cell_type": "code",
   "execution_count": 46,
   "metadata": {},
   "outputs": [
    {
     "name": "stdout",
     "output_type": "stream",
     "text": [
      "The player just earned 10 points\n"
     ]
    }
   ],
   "source": [
    "# If the alien is yellow, print a message that the player earned 10 points.\n",
    "# Write three versions of this program, making sure each message is printed for the appropriate color alien.\n",
    "\n",
    "alien_color = \"yellow\" # variable decleration\n",
    "if alien_color ==\"green\": # If statement\n",
    "    print(\"The player just earned 5 points\") # Printing method\n",
    "elif alien_color ==\"yellow\": # elif statement\n",
    "    print(\"The player just earned 10 points\") # printing method\n",
    "else: # else statement\n",
    "    print(\"The player just earned 15 points\") # Printing method\n"
   ]
  },
  {
   "cell_type": "code",
   "execution_count": 47,
   "metadata": {},
   "outputs": [
    {
     "name": "stdout",
     "output_type": "stream",
     "text": [
      "The player just earned 15 points\n"
     ]
    }
   ],
   "source": [
    "# If the alien is red, print a message that the player earned 15 points.\n",
    "# Write three versions of this program, making sure each message is printed for the appropriate color alien.\n",
    "\n",
    "alien_color = \"red\" # variable decleration\n",
    "if alien_color ==\"green\": # If statement\n",
    "    print(\"The player just earned 5 points\") # Printing method\n",
    "elif alien_color ==\"yellow\": # elif statement\n",
    "    print(\"The Player earned 10 points\") # Printing method\n",
    "else: # else statement\n",
    "    print(\"The player just earned 15 points\") # Printing Statement"
   ]
  },
  {
   "cell_type": "code",
   "execution_count": null,
   "metadata": {},
   "outputs": [],
   "source": []
  }
 ],
 "metadata": {
  "kernelspec": {
   "display_name": "Python 3",
   "language": "python",
   "name": "python3"
  },
  "language_info": {
   "codemirror_mode": {
    "name": "ipython",
    "version": 3
   },
   "file_extension": ".py",
   "mimetype": "text/x-python",
   "name": "python",
   "nbconvert_exporter": "python",
   "pygments_lexer": "ipython3",
   "version": "3.8.5"
  }
 },
 "nbformat": 4,
 "nbformat_minor": 4
}
