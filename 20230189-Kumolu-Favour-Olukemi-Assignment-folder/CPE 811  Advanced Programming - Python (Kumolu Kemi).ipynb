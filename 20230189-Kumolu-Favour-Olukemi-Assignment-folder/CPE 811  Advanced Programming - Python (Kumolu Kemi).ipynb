{
 "cells": [
  {
   "cell_type": "markdown",
   "id": "72d796ed",
   "metadata": {},
   "source": [
    "1 a) Store your name in a variable, and print a message about the python class.\n",
    "Your message should be simple, such as, “Hello {Your Name}, I am taking some\n",
    "Python classes?” Additionally, print your name in lowercase, uppercase, and\n",
    "titlecase and repeat sentences respectively."
   ]
  },
  {
   "cell_type": "code",
   "execution_count": 1,
   "id": "3be26e19",
   "metadata": {},
   "outputs": [
    {
     "name": "stdout",
     "output_type": "stream",
     "text": [
      "Hello, my name is Kumolu Kemi, I am taking some python classes?\n",
      "Hello, my name is kumolu kemi, I am taking some python classes?\n",
      "Hello, my name is KUMOLU KEMI, I am taking some python classes?\n",
      "Hello, my name is Kumolu Kemi, I am taking some python classes?\n"
     ]
    }
   ],
   "source": [
    "my_name = \"Kumolu Kemi\" #Store my name in the Variable my_name \n",
    "print (f\"Hello, my name is {my_name}, I am taking some python classes?\") # print message \n",
    "print (f\"Hello, my name is {my_name.lower()}, I am taking some python classes?\") # print message in lower case\n",
    "print (f\"Hello, my name is {my_name.upper()}, I am taking some python classes?\") # print message in uppercase\n",
    "print (f\"Hello, my name is {my_name.title()}, I am taking some python classes?\") # print message in titlecase\n"
   ]
  },
  {
   "cell_type": "markdown",
   "id": "295f23b2",
   "metadata": {},
   "source": [
    "1 b) Find a quote from a famous person you admire and store the famous\n",
    "person’s name in a variable called famous_person. Then compose your message\n",
    "and store it in a new variable called message. Print your message with the quote\n",
    "and the name of its author. Your output should look something like the following,\n",
    "including the quotation marks: Albert Einstein once said, “A person who never\n",
    "made a mistake never tried anything new.”"
   ]
  },
  {
   "cell_type": "code",
   "execution_count": 2,
   "id": "0a150f05",
   "metadata": {},
   "outputs": [
    {
     "name": "stdout",
     "output_type": "stream",
     "text": [
      "Niccolo Machiavelli once said, \"Where the willingness is great, the difficulties cannot be great.\"\n"
     ]
    }
   ],
   "source": [
    "famous_person = \"Niccolo Machiavelli\"  # famous person's name in the variable\n",
    "message = f'{famous_person} once said, \"Where the willingness is great, the difficulties cannot be great.\"' \n",
    "print (message)\n",
    "\n"
   ]
  },
  {
   "cell_type": "markdown",
   "id": "f5368922",
   "metadata": {},
   "source": [
    "1 c) Store the names of a few of your classmates in a list called names. Print\n",
    "each person’s name by accessing each element in the list, one at a time.\n",
    "Also, print a message to them. The text of each message should be the same, but\n",
    "each message should be personalized with the person’s name"
   ]
  },
  {
   "cell_type": "code",
   "execution_count": 3,
   "id": "2876177e",
   "metadata": {
    "scrolled": true
   },
   "outputs": [
    {
     "name": "stdout",
     "output_type": "stream",
     "text": [
      "Hello Akpan, I hope you are enjoying this class\n",
      "Hello Victor, I hope you are enjoying this class\n",
      "Hello Najeeb, I hope you are enjoying this class\n",
      "Hello Olushola, I hope you are enjoying this class\n",
      "Hello Jabir, I hope you are enjoying this class\n"
     ]
    }
   ],
   "source": [
    "names = [\"Akpan\", \"Victor\", \"Najeeb\", \"Olushola\", \"Jabir\"]\n",
    "for name in names:\n",
    "    message = f\"Hello {name}, I hope you are enjoying this class\"\n",
    "    print (message)"
   ]
  },
  {
   "cell_type": "markdown",
   "id": "d7c7fbd5",
   "metadata": {},
   "source": [
    "2 This is a question with a series of steps, and you are to answer sequentially.\n",
    "Ensure to implement every line.\n",
    " \n",
    " -? If you could invite anyone, living or deceased, to your graduation, who\n",
    "would you invite? Make a list that includes at least three people you’d like to invite\n",
    "to graduation. Then use your list to print a message to each person, inviting them to\n",
    "graduation.\n",
    "\n",
    "-/ You just heard that one of your guests can’t make the graduation, so you\n",
    "need to send out a new set of invitations. You’ll have to think of someone else to\n",
    "invite. Add a print statement at the end of your program stating the name of the\n",
    "guest who can’t make it.\n",
    "\n",
    "-/ Modify your list, replacing the name of the guest who can’t make it with\n",
    "the name of the new person you are inviting.\n",
    "\n",
    "-/ Print a second set of invitation messages, one for each person who is still\n",
    "in your list.\n",
    "\n",
    "-/ You just found you are allowed more guests at the graduation, so now more\n",
    "space is available. \n",
    "Think of three more guests to invite to graduation. Add a print statement\n",
    "to the end of your program informing people that you allowed more guests.\n",
    "\n",
    "-/ Use insert() to add one new guest to the beginning of your list.\n",
    "\n",
    "-/ Use insert() to add one new guest to the middle of your list.\n",
    "\n",
    "-/ Use append() to add one new guest to the end of your list.\n",
    "\n",
    "-/ Print a new set of invitation messages, one for each person in your list.\n",
    "\n",
    "-/ You just found out that organizational issues have affected the graduation,\n",
    "and you have space for only two guests. Add a new line that prints a message\n",
    "saying that you can invite only two people for graduation.\n",
    "\n",
    "-/ Use pop() to remove guests from your list one at a time until only two\n",
    "names remain in your list. Each time you pop a name from your list, print a\n",
    "message to that person letting them know you’re sorry you can’t invite them to\n",
    "graduation.\n",
    "\n",
    "-/ Print a message to each of the two people still on your list, letting them\n",
    "know they’re still invited.\n",
    "\n",
    "-/ Sort the remaining guest list so it’s stored in alphabetical order. Print the\n",
    "list to show that its order has been changed.\n",
    "\n",
    "-/ Reverse the guest to change the order of your list again. Print the list to show\n",
    "its reverse order.\n",
    "\n",
    "-/ Use del to remove the last two names from your list, so you have an empty\n",
    "list. Print your list to make sure you actually have an empty list at the end\n",
    "of your program."
   ]
  },
  {
   "cell_type": "code",
   "execution_count": 4,
   "id": "55305efa",
   "metadata": {},
   "outputs": [
    {
     "name": "stdout",
     "output_type": "stream",
     "text": [
      "Luka, \n",
      "\tyou are cordially ivited to my graduation ceremony, RSVP on 324454\n",
      "\n",
      "Sophia, \n",
      "\tyou are cordially ivited to my graduation ceremony, RSVP on 324454\n",
      "\n",
      "Emmanuel, \n",
      "\tyou are cordially ivited to my graduation ceremony, RSVP on 324454\n",
      "\n",
      "Luka would not be able to make the graduation ceremony, sadly\n",
      "\n",
      "['David', 'Sophia', 'Emmanuel']\n",
      "\n",
      "\tDavid,\t\n",
      "\t  you are cordially ivited to my graduation ceremony, RSVP on 324454\n",
      "\n",
      "\n",
      "\tSophia,\t\n",
      "\t  you are cordially ivited to my graduation ceremony, RSVP on 324454\n",
      "\n",
      "\n",
      "\tEmmanuel,\t\n",
      "\t  you are cordially ivited to my graduation ceremony, RSVP on 324454\n",
      "\n",
      "['David', 'Sophia', 'Emmanuel', 'Olushola', 'Obinna', 'Zichat']\n",
      "\n",
      "\tI am happy to announce I can invite more guests\n",
      "\n",
      "['Joy', 'David', 'Sophia', 'Emmanuel', 'Olushola', 'Obinna', 'Zichat']\n",
      "['Joy', 'David', 'Sophia', 'Deborah', 'Emmanuel', 'Olushola', 'Obinna', 'Zichat']\n",
      "['Joy', 'David', 'Sophia', 'Deborah', 'Emmanuel', 'Olushola', 'Obinna', 'Zichat', 'Paul']\n",
      "\n",
      "\tJoy, \n",
      "\t you are welcome to my graduation ceremony, RSVP on 324454\n",
      "\n",
      "\n",
      "\tDavid, \n",
      "\t you are welcome to my graduation ceremony, RSVP on 324454\n",
      "\n",
      "\n",
      "\tSophia, \n",
      "\t you are welcome to my graduation ceremony, RSVP on 324454\n",
      "\n",
      "\n",
      "\tDeborah, \n",
      "\t you are welcome to my graduation ceremony, RSVP on 324454\n",
      "\n",
      "\n",
      "\tEmmanuel, \n",
      "\t you are welcome to my graduation ceremony, RSVP on 324454\n",
      "\n",
      "\n",
      "\tOlushola, \n",
      "\t you are welcome to my graduation ceremony, RSVP on 324454\n",
      "\n",
      "\n",
      "\tObinna, \n",
      "\t you are welcome to my graduation ceremony, RSVP on 324454\n",
      "\n",
      "\n",
      "\tZichat, \n",
      "\t you are welcome to my graduation ceremony, RSVP on 324454\n",
      "\n",
      "\n",
      "\tPaul, \n",
      "\t you are welcome to my graduation ceremony, RSVP on 324454\n",
      "\n",
      "\n",
      "\tForgive me for any inconvenience, I can only invite two guests due to oganizational issues\n",
      "\n",
      "Sorry, Paul, you can't be invited to the graduation.\n",
      "\n",
      "Sorry, Zichat, you can't be invited to the graduation.\n",
      "\n",
      "Sorry, Obinna, you can't be invited to the graduation.\n",
      "\n",
      "Sorry, Olushola, you can't be invited to the graduation.\n",
      "\n",
      "Sorry, Emmanuel, you can't be invited to the graduation.\n",
      "\n",
      "Sorry, Deborah, you can't be invited to the graduation.\n",
      "\n",
      "Sorry, Sophia, you can't be invited to the graduation.\n",
      "\n",
      "Dear Joy,\n",
      "\tYou are invited to my graduation, I hope to see you there.\n",
      "\n",
      "Dear David,\n",
      "\tYou are invited to my graduation, I hope to see you there.\n",
      "\n",
      "['David', 'Joy']\n",
      "['Joy', 'David']\n",
      "[]\n"
     ]
    }
   ],
   "source": [
    "guests = [\"Luka\", \"Sophia\", \"Emmanuel\"]\n",
    "for guest in guests:\n",
    "    print (f\"{guest}, \\n\\tyou are cordially ivited to my graduation ceremony, RSVP on 324454\\n\")\n",
    "    \n",
    "\n",
    "guest_unavailable = \"Luka\"\n",
    "print (\"Luka would not be able to make the graduation ceremony, sadly\\n\")\n",
    "       \n",
    "\n",
    "new_guest = \"David\"\n",
    "guests[guests.index(guest_unavailable)] = new_guest \n",
    "print (guests)\n",
    "\n",
    "\n",
    "for guest in guests:\n",
    "    print (f\"\\n\\t{guest},\\t\\n\\t  you are cordially ivited to my graduation ceremony, RSVP on 324454\\n\")\n",
    "    \n",
    "\n",
    "more_guests = [\"Olushola\", \"Obinna\", \"Zichat\"] # adding more guests under the variable more_guests\n",
    "guests.extend(more_guests)# add the new guests to the original list\n",
    "print (guests)\n",
    "print (\"\\n\\tI am happy to announce I can invite more guests\\n\") \n",
    "\n",
    "\n",
    "guests.insert(0, \"Joy\")\n",
    "print (guests)\n",
    "\n",
    "guests.insert(len(guests)//2, \"Deborah\")\n",
    "print (guests)\n",
    "\n",
    "guests.append(\"Paul\")\n",
    "print (guests)\n",
    "\n",
    "for guest in guests:\n",
    "    print (f\"\\n\\t{guest}, \\n\\t you are welcome to my graduation ceremony, RSVP on 324454\\n\")\n",
    "    \n",
    "print (\"\\n\\tForgive me for any inconvenience, I can only invite two guests due to oganizational issues\\n\")\n",
    "\n",
    "\n",
    "while len(guests) > 2:\n",
    "    removed_guest = guests.pop()\n",
    "    print(f\"Sorry, {removed_guest}, you can't be invited to the graduation.\\n\")\n",
    "    \n",
    "for remainder_guest in guests:\n",
    "    print(f\"Dear {remainder_guest},\\n\\tYou are invited to my graduation, I hope to see you there.\\n\")\n",
    "    \n",
    "guests.sort()\n",
    "print(guests)\n",
    "\n",
    "guests.reverse()\n",
    "print( guests)\n",
    "\n",
    "del guests[-2:]\n",
    "print(guests)\n",
    "   \n",
    "\n",
    "\n",
    "\n",
    "\n"
   ]
  },
  {
   "cell_type": "markdown",
   "id": "65b1ed64",
   "metadata": {},
   "source": [
    "3 Write a function called make_album() that builds a dictionary describing a\n",
    "music album. The function should take in an artist name and an\n",
    "album title, and it should return a dictionary containing these two pieces of\n",
    "information. Use the function to make three dictionaries representing different\n",
    "albums. Print each return value to show that the dictionaries are storing the\n",
    "album information correctly.\n",
    "Add an optional parameter to make_album() that allows you to store the\n",
    "number of tracks on an album. If the calling line includes a value for the number\n",
    "of tracks, add that value to the album’s dictionary. Make at least one new\n",
    "function call that includes the number of tracks on an album.\n",
    "-/ Write a while loop that allows users to enter an album’s artist and title. Once\n",
    "you have that information, call make_album() with the user’s input and print the\n",
    "dictionary that’s created. Be sure to include a quit value in the while loop."
   ]
  },
  {
   "cell_type": "code",
   "execution_count": 4,
   "id": "cb88cfe7",
   "metadata": {},
   "outputs": [
    {
     "name": "stdout",
     "output_type": "stream",
     "text": [
      "{'artist': 'Burnaboy', 'title': 'I Told Them'}\n",
      "{'artist': 'Wizkid', 'title': 'Made In Lagos'}\n",
      "{'artist': 'Davido', 'title': 'A Better Time'}\n",
      "{'artist': 'Burnaboy', 'title': 'I Told Them', 'tracks': 12}\n",
      "{'artist': 'Wizkid', 'title': 'Made In Lagos'}\n",
      "{'artist': 'Davido', 'title': 'A Better Time', 'tracks': 15}\n",
      "Enter the artist's name (or 'quit' to exit): quit\n"
     ]
    }
   ],
   "source": [
    "def make_album(artist, title,):\n",
    "    album_info = {'artist': artist, 'title': title}\n",
    "    return album_info\n",
    "\n",
    "# Make three dictionaries representing different albums\n",
    "album1 = make_album('Burnaboy', 'I Told Them')\n",
    "album2 = make_album('Wizkid', 'Made In Lagos')\n",
    "album3 = make_album('Davido', 'A Better Time')\n",
    "\n",
    "# Print each return value to show that the dictionaries are storing the album information correctly\n",
    "print(album1)\n",
    "print(album2)\n",
    "print(album3)\n",
    "\n",
    "\n",
    "def make_album(artist, title, tracks=None):\n",
    "    album_info = {'artist': artist, 'title': title}\n",
    "    if tracks is not None:\n",
    "        album_info['tracks'] = tracks\n",
    "    return album_info\n",
    "\n",
    "# Make three dictionaries representing different albums\n",
    "album1 = make_album('Burnaboy', 'I Told Them', 12)\n",
    "album2 = make_album('Wizkid', 'Made In Lagos')\n",
    "album3 = make_album('Davido', 'A Better Time', 15)\n",
    "\n",
    "# Print each return value to show that the dictionaries are storing the album information correctly\n",
    "print(album1)\n",
    "print(album2)\n",
    "print(album3)\n",
    "\n",
    "\n",
    "def make_album(artist, title, year=None, tracks=None):\n",
    "    album_info = {'artist': artist, 'title': title}\n",
    "    if year is not None:\n",
    "        album_info['year'] = year\n",
    "    if tracks is not None:\n",
    "        album_info['tracks'] = tracks\n",
    "    return album_info\n",
    "\n",
    "while True:\n",
    "    artist_input = input(\"Enter the artist's name (or 'quit' to exit): \")\n",
    "    \n",
    "    # Check if the user wants to quit\n",
    "    if artist_input.lower() == 'quit':\n",
    "        break\n",
    "    \n",
    "    title_input = input(\"Enter the album title: \")\n",
    "    \n",
    "    # Optionally, ask for the release year\n",
    "    year_input = input(\"Enter the release year (press Enter to skip): \")\n",
    "    if year_input.isdigit():\n",
    "        year_input = int(year_input)\n",
    "    else:\n",
    "        year_input = None\n",
    "    \n",
    "    # Optionally, ask for the number of tracks\n",
    "    tracks_input = input(\"Enter the number of tracks (press Enter to skip): \")\n",
    "    if tracks_input.isdigit():\n",
    "        tracks_input = int(tracks_input)\n",
    "    else:\n",
    "        tracks_input = None\n",
    "    \n",
    "    # Call make_album() with user input and print the dictionary\n",
    "    album_info_user = make_album(artist_input, title_input, year_input, tracks_input)\n",
    "    print(album_info_user)\n"
   ]
  },
  {
   "cell_type": "markdown",
   "id": "cbe6493e",
   "metadata": {},
   "source": [
    "4\n",
    "a A number raised to the third power is called a cube. For example, the cube\n",
    "of 2 is written as 2**3 in Python. Make a list of the first 10 cubes (that is, the cube\n",
    "of each integer from 1 through 10), and use a for loop to print out\n",
    "the value of each cube.\n",
    "-/ Also, use a list comprehension to generate a list of the\n",
    "first 10 cubes."
   ]
  },
  {
   "cell_type": "code",
   "execution_count": 5,
   "id": "89a8c5d8",
   "metadata": {},
   "outputs": [
    {
     "name": "stdout",
     "output_type": "stream",
     "text": [
      "The cube of 1 is 1\n",
      "The cube of 2 is 8\n",
      "The cube of 3 is 27\n",
      "The cube of 4 is 64\n",
      "The cube of 5 is 125\n",
      "The cube of 6 is 216\n",
      "The cube of 7 is 343\n",
      "The cube of 8 is 512\n",
      "The cube of 9 is 729\n",
      "The cube of 10 is 1000\n",
      "[1, 8, 27, 64, 125, 216, 343, 512, 729, 1000]\n"
     ]
    }
   ],
   "source": [
    "cubes_numbers = []\n",
    "for num in range(1, 11):\n",
    "    cube = num ** 3\n",
    "    cubes_numbers.append(cube)\n",
    "    print(f\"The cube of {num} is {cube}\")\n",
    "\n",
    "# Part b: Using list comprehension to generate a list of the first 10 cubes\n",
    "cubes_using_list_comprehension = [num ** 3 for num in range(1, 11)]\n",
    "\n",
    "# Print the list generated by list comprehension\n",
    "print(cubes_using_list_comprehension)"
   ]
  },
  {
   "cell_type": "markdown",
   "id": "66ce6227",
   "metadata": {},
   "source": [
    "b. A movie theater charges different ticket prices depending on a person’s age. If a\n",
    "person is under the age of 3, the ticket is free; if they are between 3 and 12, the\n",
    "ticket is N5,000; and if they are over age 12, the ticket is N10,000. Write a loop in\n",
    "which you ask users their age, and then tell them the cost of their movie ticket.\n",
    "Write different versions that do each of the following at least once:\n",
    "• Use a conditional test in the while statement to stop the loop.\n",
    "• Use an active variable to control how long the loop runs.\n",
    "• Use a break statement to exit the loop when the user enters a 'quit' value."
   ]
  },
  {
   "cell_type": "code",
   "execution_count": 6,
   "id": "3b7d6956",
   "metadata": {},
   "outputs": [
    {
     "name": "stdout",
     "output_type": "stream",
     "text": [
      "Please enter your age (type 'quit' to exit): quit\n"
     ]
    }
   ],
   "source": [
    "while True:\n",
    "    age = input(\"Please enter your age (type 'quit' to exit): \")\n",
    "    \n",
    "    if age.lower() == 'quit':\n",
    "        break  # Exit the loop if the user enters 'quit'\n",
    "    \n",
    "    age = int(age)\n",
    "    \n",
    "    if age < 3:\n",
    "        ticket_price = 0\n",
    "    elif 3 <= age <= 12:\n",
    "        ticket_price = 5000\n",
    "    else:\n",
    "        ticket_price = 10000\n",
    "    \n",
    "    print(f\"The cost of your movie ticket is N{ticket_price}\")\n"
   ]
  },
  {
   "cell_type": "markdown",
   "id": "3d053549",
   "metadata": {},
   "source": [
    "5)\n",
    "a) Imagine an alien was just shot down in a game. Create a variable called\n",
    "alien_color and assign it a value of 'green', 'yellow', or 'red'.\n",
    "• Write an if statement to test whether the alien’s color is green. If it is, print\n",
    "a message that the player just earned 5 points.\n",
    "• Write one version of this program that passes the if test and another that\n",
    "fails. (The version that fails will have no output.)"
   ]
  },
  {
   "cell_type": "code",
   "execution_count": 7,
   "id": "ec69aae3",
   "metadata": {},
   "outputs": [
    {
     "name": "stdout",
     "output_type": "stream",
     "text": [
      "You have 5 points, congratulations.\n"
     ]
    }
   ],
   "source": [
    "alien_color = 'green'\n",
    "\n",
    "if alien_color == 'green':\n",
    "    print(\"You have 5 points, congratulations.\")"
   ]
  },
  {
   "cell_type": "code",
   "execution_count": 8,
   "id": "92ef6a11",
   "metadata": {},
   "outputs": [],
   "source": [
    "alien_color = 'yellow'\n",
    "\n",
    "if alien_color == 'green':\n",
    "    print(\"Congratulations! You just earned 5 points.\")\n"
   ]
  },
  {
   "cell_type": "markdown",
   "id": "7e0ec1f3",
   "metadata": {},
   "source": [
    "b) Write an if-else chain.\n",
    "• If the alien’s color is green, print a statement that the player just earned\n",
    "5 points for shooting the alien.\n",
    "• If the alien’s color isn’t green, print a statement that the player just earned\n",
    "10 points.\n",
    "• Write one version of this program that runs the if block and another that\n",
    "runs the else block."
   ]
  },
  {
   "cell_type": "code",
   "execution_count": 9,
   "id": "bffba71d",
   "metadata": {},
   "outputs": [
    {
     "name": "stdout",
     "output_type": "stream",
     "text": [
      "Congratulations! You just earned 5 points for shooting the alien.\n",
      "Congratulations! You just earned 10 points.\n"
     ]
    }
   ],
   "source": [
    "alien_color = 'green'\n",
    "\n",
    "if alien_color == 'green':\n",
    "    print(\"Congratulations! You just earned 5 points for shooting the alien.\")\n",
    "else:\n",
    "    print(\"Congratulations! You just earned 10 points.\")\n",
    "    \n",
    "\n",
    "alien_color = 'red'\n",
    "\n",
    "if alien_color == 'green':\n",
    "    print(\"Congratulations! You just earned 5 points for shooting the alien.\")\n",
    "else:\n",
    "    print(\"Congratulations! You just earned 10 points.\")"
   ]
  },
  {
   "cell_type": "markdown",
   "id": "13f7bd9a",
   "metadata": {},
   "source": [
    "c) Write an if-elif-else chain.\n",
    "• If the alien is green, print a message that the player earned 5 points.\n",
    "• If the alien is yellow, print a message that the player earned 10 points.\n",
    "• If the alien is red, print a message that the player earned 15 points.\n",
    "• Write three versions of this program, making sure each message is printed\n",
    "for the appropriate color alien."
   ]
  },
  {
   "cell_type": "code",
   "execution_count": 10,
   "id": "fe8c8060",
   "metadata": {},
   "outputs": [
    {
     "name": "stdout",
     "output_type": "stream",
     "text": [
      "Congratulations! You just earned 5 points.\n",
      "Congratulations! You just earned 10 points.\n",
      "Congratulations! You just earned 15 points.\n"
     ]
    }
   ],
   "source": [
    "\n",
    "alien_color = 'green'\n",
    "\n",
    "if alien_color == 'green':\n",
    "    print(\"Congratulations! You just earned 5 points.\")\n",
    "elif alien_color == 'yellow':\n",
    "    print(\"Congratulations! You just earned 10 points.\")\n",
    "else:\n",
    "    print(\"Congratulations! You just earned 15 points.\")\n",
    "    \n",
    "    \n",
    "    \n",
    "alien_color = 'yellow'\n",
    "\n",
    "if alien_color == 'green':\n",
    "    print(\"Congratulations! You just earned 5 points.\")\n",
    "elif alien_color == 'yellow':\n",
    "    print(\"Congratulations! You just earned 10 points.\")\n",
    "else:\n",
    "    print(\"Congratulations! You just earned 15 points.\")\n",
    "    \n",
    "    \n",
    "alien_color = 'red'\n",
    "\n",
    "if alien_color == 'green':\n",
    "    print(\"Congratulations! You just earned 5 points.\")\n",
    "elif alien_color == 'yellow':\n",
    "    print(\"Congratulations! You just earned 10 points.\")\n",
    "else:\n",
    "    print(\"Congratulations! You just earned 15 points.\")\n"
   ]
  },
  {
   "cell_type": "code",
   "execution_count": null,
   "id": "d24a6a93",
   "metadata": {},
   "outputs": [],
   "source": []
  }
 ],
 "metadata": {
  "kernelspec": {
   "display_name": "Python 3 (ipykernel)",
   "language": "python",
   "name": "python3"
  },
  "language_info": {
   "codemirror_mode": {
    "name": "ipython",
    "version": 3
   },
   "file_extension": ".py",
   "mimetype": "text/x-python",
   "name": "python",
   "nbconvert_exporter": "python",
   "pygments_lexer": "ipython3",
   "version": "3.11.5"
  }
 },
 "nbformat": 4,
 "nbformat_minor": 5
}
